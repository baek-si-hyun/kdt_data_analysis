{
 "cells": [
  {
   "cell_type": "markdown",
   "id": "4622127e-25cc-4ac0-b19e-dfb121201a75",
   "metadata": {},
   "source": [
    "### Data Analysis\r\n",
    "- 원시(원본 그대로) 데이터를 분석하여 인사이트(가시성 증가 및 깊은 이해)로 변환하는 작업이다.\r\n",
    "- 문제를 해결하기 위해 데이터를 사용해서 흐름 및 방향을 찾는 기술이다.\r\n",
    "- 데이터 분석을 통해 비지니스 프로세스를 구성하고, 의사 결정을 개선하며, 비지니스 성장을 증진할 수 있다.\r\n",
    "\r\n",
    "<img src=\"./images/architecture.png\" width=\"600px\" style=\"margin-left: 10\n",
    "**<sub>ETL은 Extract(추출), Transform(변환), Load(적재)를 의미한다. 여기저기 흩어진 데이터를 하나로 모으기 위한 결합 과정이다.</sub>px;\">"
   ]
  },
  {
   "cell_type": "markdown",
   "id": "9281ace2-5876-4a36-84ff-93446ad32465",
   "metadata": {},
   "source": [
    "### 기초 통계 (Basic statistics)\n",
    "📌 통계는 아직 발생하지 않은 일을 예측하기 위해 사용한다.\n",
    "- 통계학을 공부하는데 있어 필요한 기본 개념이고,  \n",
    "  수량적인 비교를 기포로 많은 사실을 관찰하고 처리하는 방법을 연구하는 학문이다.\n",
    "- 불균형 데이터를 대상으로 규칙성과 불규칙성을 발견한 뒤 실생활에 적용할 수있다.\n",
    "<img src=\"./images/statistics01.png\" style=\"margin-top: 20px\"/>"
   ]
  },
  {
   "cell_type": "markdown",
   "id": "520d23f4-6fb9-44c9-a133-743f499d8745",
   "metadata": {},
   "source": [
    "#### 변량 (Variable)\n",
    "- 자료의 수치를 변량이라고 하며, 이는 데이터의 값을 의미한다."
   ]
  },
  {
   "cell_type": "code",
   "execution_count": 94,
   "id": "f23ce9ea-13dd-418c-99eb-433a41b8d115",
   "metadata": {},
   "outputs": [
    {
     "data": {
      "text/html": [
       "<div>\n",
       "<style scoped>\n",
       "    .dataframe tbody tr th:only-of-type {\n",
       "        vertical-align: middle;\n",
       "    }\n",
       "\n",
       "    .dataframe tbody tr th {\n",
       "        vertical-align: top;\n",
       "    }\n",
       "\n",
       "    .dataframe thead th {\n",
       "        text-align: right;\n",
       "    }\n",
       "</style>\n",
       "<table border=\"1\" class=\"dataframe\">\n",
       "  <thead>\n",
       "    <tr style=\"text-align: right;\">\n",
       "      <th></th>\n",
       "      <th>서울</th>\n",
       "      <th>경기</th>\n",
       "      <th>인천</th>\n",
       "      <th>광주</th>\n",
       "      <th>대구</th>\n",
       "      <th>부산</th>\n",
       "      <th>전주</th>\n",
       "      <th>강릉</th>\n",
       "      <th>울산</th>\n",
       "      <th>수원</th>\n",
       "    </tr>\n",
       "  </thead>\n",
       "  <tbody>\n",
       "    <tr>\n",
       "      <th>0</th>\n",
       "      <td>152</td>\n",
       "      <td>151</td>\n",
       "      <td>185</td>\n",
       "      <td>178</td>\n",
       "      <td>169</td>\n",
       "      <td>179</td>\n",
       "      <td>174</td>\n",
       "      <td>160</td>\n",
       "      <td>178</td>\n",
       "      <td>184</td>\n",
       "    </tr>\n",
       "    <tr>\n",
       "      <th>1</th>\n",
       "      <td>159</td>\n",
       "      <td>168</td>\n",
       "      <td>160</td>\n",
       "      <td>160</td>\n",
       "      <td>154</td>\n",
       "      <td>164</td>\n",
       "      <td>180</td>\n",
       "      <td>185</td>\n",
       "      <td>166</td>\n",
       "      <td>159</td>\n",
       "    </tr>\n",
       "    <tr>\n",
       "      <th>2</th>\n",
       "      <td>156</td>\n",
       "      <td>179</td>\n",
       "      <td>160</td>\n",
       "      <td>157</td>\n",
       "      <td>180</td>\n",
       "      <td>155</td>\n",
       "      <td>151</td>\n",
       "      <td>159</td>\n",
       "      <td>165</td>\n",
       "      <td>159</td>\n",
       "    </tr>\n",
       "    <tr>\n",
       "      <th>3</th>\n",
       "      <td>174</td>\n",
       "      <td>164</td>\n",
       "      <td>151</td>\n",
       "      <td>156</td>\n",
       "      <td>156</td>\n",
       "      <td>179</td>\n",
       "      <td>161</td>\n",
       "      <td>160</td>\n",
       "      <td>185</td>\n",
       "      <td>153</td>\n",
       "    </tr>\n",
       "    <tr>\n",
       "      <th>4</th>\n",
       "      <td>177</td>\n",
       "      <td>165</td>\n",
       "      <td>185</td>\n",
       "      <td>166</td>\n",
       "      <td>178</td>\n",
       "      <td>177</td>\n",
       "      <td>152</td>\n",
       "      <td>164</td>\n",
       "      <td>165</td>\n",
       "      <td>184</td>\n",
       "    </tr>\n",
       "    <tr>\n",
       "      <th>5</th>\n",
       "      <td>184</td>\n",
       "      <td>174</td>\n",
       "      <td>170</td>\n",
       "      <td>156</td>\n",
       "      <td>170</td>\n",
       "      <td>173</td>\n",
       "      <td>181</td>\n",
       "      <td>167</td>\n",
       "      <td>178</td>\n",
       "      <td>162</td>\n",
       "    </tr>\n",
       "    <tr>\n",
       "      <th>6</th>\n",
       "      <td>159</td>\n",
       "      <td>183</td>\n",
       "      <td>187</td>\n",
       "      <td>180</td>\n",
       "      <td>174</td>\n",
       "      <td>153</td>\n",
       "      <td>171</td>\n",
       "      <td>175</td>\n",
       "      <td>185</td>\n",
       "      <td>155</td>\n",
       "    </tr>\n",
       "    <tr>\n",
       "      <th>7</th>\n",
       "      <td>172</td>\n",
       "      <td>151</td>\n",
       "      <td>186</td>\n",
       "      <td>157</td>\n",
       "      <td>186</td>\n",
       "      <td>158</td>\n",
       "      <td>155</td>\n",
       "      <td>158</td>\n",
       "      <td>168</td>\n",
       "      <td>161</td>\n",
       "    </tr>\n",
       "    <tr>\n",
       "      <th>8</th>\n",
       "      <td>165</td>\n",
       "      <td>170</td>\n",
       "      <td>164</td>\n",
       "      <td>170</td>\n",
       "      <td>168</td>\n",
       "      <td>186</td>\n",
       "      <td>156</td>\n",
       "      <td>162</td>\n",
       "      <td>182</td>\n",
       "      <td>178</td>\n",
       "    </tr>\n",
       "    <tr>\n",
       "      <th>9</th>\n",
       "      <td>188</td>\n",
       "      <td>167</td>\n",
       "      <td>157</td>\n",
       "      <td>171</td>\n",
       "      <td>171</td>\n",
       "      <td>163</td>\n",
       "      <td>177</td>\n",
       "      <td>175</td>\n",
       "      <td>163</td>\n",
       "      <td>160</td>\n",
       "    </tr>\n",
       "  </tbody>\n",
       "</table>\n",
       "</div>"
      ],
      "text/plain": [
       "    서울   경기   인천   광주   대구   부산   전주   강릉   울산   수원\n",
       "0  152  151  185  178  169  179  174  160  178  184\n",
       "1  159  168  160  160  154  164  180  185  166  159\n",
       "2  156  179  160  157  180  155  151  159  165  159\n",
       "3  174  164  151  156  156  179  161  160  185  153\n",
       "4  177  165  185  166  178  177  152  164  165  184\n",
       "5  184  174  170  156  170  173  181  167  178  162\n",
       "6  159  183  187  180  174  153  171  175  185  155\n",
       "7  172  151  186  157  186  158  155  158  168  161\n",
       "8  165  170  164  170  168  186  156  162  182  178\n",
       "9  188  167  157  171  171  163  177  175  163  160"
      ]
     },
     "metadata": {},
     "output_type": "display_data"
    }
   ],
   "source": [
    "# 지역 별 총 100명의 키\n",
    "import pandas as pd\n",
    "import numpy as np\n",
    "\n",
    "df = pd.DataFrame(np.random.randint(151, 190, size=(10, 10)), \\\n",
    "             columns=\"서울,경기,인천,광주,대구,부산,전주,강릉,울산,수원\".split(\",\"))\n",
    "display(df)"
   ]
  },
  {
   "cell_type": "code",
   "execution_count": 95,
   "id": "01f58622-6c84-4d1c-a456-c62ce64c3c53",
   "metadata": {},
   "outputs": [
    {
     "name": "stdout",
     "output_type": "stream",
     "text": [
      "374 µs ± 81.2 µs per loop (mean ± std. dev. of 10 runs, 100 loops each)\n"
     ]
    }
   ],
   "source": [
    "%%timeit -n 100 -r 10\n",
    "\n",
    "import pandas as pd\n",
    "import random\n",
    "\n",
    "df = pd.DataFrame([[random.randrange(151,190) for _ in range(10)] for _ in range(10)], \\\n",
    "             columns=\"서울,경기,인천,광주,대구,부산,전주,강릉,울산,수원\".split(\",\"))\n"
   ]
  },
  {
   "cell_type": "code",
   "execution_count": 96,
   "id": "4942bdf2-2cad-4586-9b9a-3d844d1a15d2",
   "metadata": {},
   "outputs": [
    {
     "name": "stdout",
     "output_type": "stream",
     "text": [
      "104 µs ± 26.8 µs per loop (mean ± std. dev. of 10 runs, 100 loops each)\n"
     ]
    }
   ],
   "source": [
    "%%timeit -n 100 -r 10\n",
    "\n",
    "import pandas as pd\n",
    "import numpy as np\n",
    "\n",
    "df = pd.DataFrame(np.random.randint(151, 190, size=(10, 10)), \\\n",
    "                  columns=\"서울,경기,인천,광주,대구,부산,전주,강릉,울산,수원\".split(\",\"))"
   ]
  },
  {
   "cell_type": "markdown",
   "id": "bd4fb0f9-de72-4e74-901f-0573392b3d67",
   "metadata": {},
   "source": [
    "#### 계급 (Class)\n",
    "- 변량을 일정 간격으로 나눈 구간을 의미한다.\n",
    "- 변량의 최소값고 최대값을 잘 고려해서 계급을 정해야한다.\n",
    "- 예를 들어, 150 ~ 160 계급이 있을 경우, 160까지 속한다. 즉 151~ 160까지이다."
   ]
  },
  {
   "cell_type": "code",
   "execution_count": 97,
   "id": "a7f7dbb5-59db-4b56-999d-26c9004dd0b8",
   "metadata": {},
   "outputs": [
    {
     "data": {
      "text/html": [
       "<div>\n",
       "<style scoped>\n",
       "    .dataframe tbody tr th:only-of-type {\n",
       "        vertical-align: middle;\n",
       "    }\n",
       "\n",
       "    .dataframe tbody tr th {\n",
       "        vertical-align: top;\n",
       "    }\n",
       "\n",
       "    .dataframe thead th {\n",
       "        text-align: right;\n",
       "    }\n",
       "</style>\n",
       "<table border=\"1\" class=\"dataframe\">\n",
       "  <thead>\n",
       "    <tr style=\"text-align: right;\">\n",
       "      <th></th>\n",
       "      <th>서울</th>\n",
       "      <th>계급</th>\n",
       "    </tr>\n",
       "  </thead>\n",
       "  <tbody>\n",
       "    <tr>\n",
       "      <th>0</th>\n",
       "      <td>152</td>\n",
       "      <td>(150, 160]</td>\n",
       "    </tr>\n",
       "    <tr>\n",
       "      <th>1</th>\n",
       "      <td>159</td>\n",
       "      <td>(150, 160]</td>\n",
       "    </tr>\n",
       "    <tr>\n",
       "      <th>2</th>\n",
       "      <td>156</td>\n",
       "      <td>(150, 160]</td>\n",
       "    </tr>\n",
       "    <tr>\n",
       "      <th>3</th>\n",
       "      <td>174</td>\n",
       "      <td>(170, 180]</td>\n",
       "    </tr>\n",
       "    <tr>\n",
       "      <th>4</th>\n",
       "      <td>177</td>\n",
       "      <td>(170, 180]</td>\n",
       "    </tr>\n",
       "    <tr>\n",
       "      <th>5</th>\n",
       "      <td>184</td>\n",
       "      <td>(180, 190]</td>\n",
       "    </tr>\n",
       "    <tr>\n",
       "      <th>6</th>\n",
       "      <td>159</td>\n",
       "      <td>(150, 160]</td>\n",
       "    </tr>\n",
       "    <tr>\n",
       "      <th>7</th>\n",
       "      <td>172</td>\n",
       "      <td>(170, 180]</td>\n",
       "    </tr>\n",
       "    <tr>\n",
       "      <th>8</th>\n",
       "      <td>165</td>\n",
       "      <td>(160, 170]</td>\n",
       "    </tr>\n",
       "    <tr>\n",
       "      <th>9</th>\n",
       "      <td>188</td>\n",
       "      <td>(180, 190]</td>\n",
       "    </tr>\n",
       "  </tbody>\n",
       "</table>\n",
       "</div>"
      ],
      "text/plain": [
       "    서울          계급\n",
       "0  152  (150, 160]\n",
       "1  159  (150, 160]\n",
       "2  156  (150, 160]\n",
       "3  174  (170, 180]\n",
       "4  177  (170, 180]\n",
       "5  184  (180, 190]\n",
       "6  159  (150, 160]\n",
       "7  172  (170, 180]\n",
       "8  165  (160, 170]\n",
       "9  188  (180, 190]"
      ]
     },
     "execution_count": 97,
     "metadata": {},
     "output_type": "execute_result"
    }
   ],
   "source": [
    "df_seoul = df['서울']\n",
    "df_class = pd.cut(df_seoul, bins=[150, 160, 170, 180, 190])\n",
    "df_seoul_class = pd.DataFrame({'서울': df_seoul, '계급': df_class})\n",
    "df_seoul_class"
   ]
  },
  {
   "cell_type": "markdown",
   "id": "1c8202e4-be64-481a-8f78-90200336df6c",
   "metadata": {},
   "source": [
    "#### 도수 (Frequency)\n",
    "- 각 계급에 속하는 변량의 개수를 의미한다."
   ]
  },
  {
   "cell_type": "code",
   "execution_count": 98,
   "id": "02b7777f-0732-4684-bbf4-f145320f46b1",
   "metadata": {},
   "outputs": [
    {
     "data": {
      "text/html": [
       "<div>\n",
       "<style scoped>\n",
       "    .dataframe tbody tr th:only-of-type {\n",
       "        vertical-align: middle;\n",
       "    }\n",
       "\n",
       "    .dataframe tbody tr th {\n",
       "        vertical-align: top;\n",
       "    }\n",
       "\n",
       "    .dataframe thead th {\n",
       "        text-align: right;\n",
       "    }\n",
       "</style>\n",
       "<table border=\"1\" class=\"dataframe\">\n",
       "  <thead>\n",
       "    <tr style=\"text-align: right;\">\n",
       "      <th></th>\n",
       "      <th>서울</th>\n",
       "    </tr>\n",
       "    <tr>\n",
       "      <th>계급</th>\n",
       "      <th></th>\n",
       "    </tr>\n",
       "  </thead>\n",
       "  <tbody>\n",
       "    <tr>\n",
       "      <th>(150, 160]</th>\n",
       "      <td>4</td>\n",
       "    </tr>\n",
       "    <tr>\n",
       "      <th>(160, 170]</th>\n",
       "      <td>1</td>\n",
       "    </tr>\n",
       "    <tr>\n",
       "      <th>(170, 180]</th>\n",
       "      <td>3</td>\n",
       "    </tr>\n",
       "    <tr>\n",
       "      <th>(180, 190]</th>\n",
       "      <td>2</td>\n",
       "    </tr>\n",
       "  </tbody>\n",
       "</table>\n",
       "</div>"
      ],
      "text/plain": [
       "            서울\n",
       "계급            \n",
       "(150, 160]   4\n",
       "(160, 170]   1\n",
       "(170, 180]   3\n",
       "(180, 190]   2"
      ]
     },
     "execution_count": 98,
     "metadata": {},
     "output_type": "execute_result"
    }
   ],
   "source": [
    "df_seoul_class.groupby('계급', observed=True).count()"
   ]
  },
  {
   "cell_type": "markdown",
   "id": "23a67850-5ca8-4d82-9c36-b4b27952b71e",
   "metadata": {},
   "source": [
    "#### 상대 도수 (Relative frequency)\n",
    "- 각 계급에 속하는 변량의 비율을 의미한다."
   ]
  },
  {
   "cell_type": "code",
   "execution_count": 99,
   "id": "78328bc3-eb76-4120-86f4-be2caad1e29a",
   "metadata": {},
   "outputs": [
    {
     "data": {
      "text/html": [
       "<div>\n",
       "<style scoped>\n",
       "    .dataframe tbody tr th:only-of-type {\n",
       "        vertical-align: middle;\n",
       "    }\n",
       "\n",
       "    .dataframe tbody tr th {\n",
       "        vertical-align: top;\n",
       "    }\n",
       "\n",
       "    .dataframe thead th {\n",
       "        text-align: right;\n",
       "    }\n",
       "</style>\n",
       "<table border=\"1\" class=\"dataframe\">\n",
       "  <thead>\n",
       "    <tr style=\"text-align: right;\">\n",
       "      <th></th>\n",
       "      <th>서울</th>\n",
       "    </tr>\n",
       "    <tr>\n",
       "      <th>계급</th>\n",
       "      <th></th>\n",
       "    </tr>\n",
       "  </thead>\n",
       "  <tbody>\n",
       "    <tr>\n",
       "      <th>(150, 160]</th>\n",
       "      <td>0.04</td>\n",
       "    </tr>\n",
       "    <tr>\n",
       "      <th>(160, 170]</th>\n",
       "      <td>0.01</td>\n",
       "    </tr>\n",
       "    <tr>\n",
       "      <th>(170, 180]</th>\n",
       "      <td>0.03</td>\n",
       "    </tr>\n",
       "    <tr>\n",
       "      <th>(180, 190]</th>\n",
       "      <td>0.02</td>\n",
       "    </tr>\n",
       "  </tbody>\n",
       "</table>\n",
       "</div>"
      ],
      "text/plain": [
       "              서울\n",
       "계급              \n",
       "(150, 160]  0.04\n",
       "(160, 170]  0.01\n",
       "(170, 180]  0.03\n",
       "(180, 190]  0.02"
      ]
     },
     "execution_count": 99,
     "metadata": {},
     "output_type": "execute_result"
    }
   ],
   "source": [
    "df_seoul_class.groupby('계급', observed=False).count().apply(lambda x : x / 100)"
   ]
  },
  {
   "cell_type": "markdown",
   "id": "688fadd5-79d7-42a0-adea-ca0935d10ae8",
   "metadata": {},
   "source": [
    "#### 도수 분포표(Frequency table)\n",
    "- 주어진 자료를 계급별로 나눈 뒤 각 계급에 속하는 도수 및 상대 도수를 조사한 표이다.\n",
    "- 구간별 분포를 한번에 알아보기 좋지만 계급별 각 변량의 정확한 값이 생략되어 있다."
   ]
  },
  {
   "cell_type": "code",
   "execution_count": 100,
   "id": "ac7f4171-dfb9-47a4-b2fd-6e5d761f63ac",
   "metadata": {},
   "outputs": [
    {
     "data": {
      "text/html": [
       "<div>\n",
       "<style scoped>\n",
       "    .dataframe tbody tr th:only-of-type {\n",
       "        vertical-align: middle;\n",
       "    }\n",
       "\n",
       "    .dataframe tbody tr th {\n",
       "        vertical-align: top;\n",
       "    }\n",
       "\n",
       "    .dataframe thead th {\n",
       "        text-align: right;\n",
       "    }\n",
       "</style>\n",
       "<table border=\"1\" class=\"dataframe\">\n",
       "  <thead>\n",
       "    <tr style=\"text-align: right;\">\n",
       "      <th></th>\n",
       "      <th>도수</th>\n",
       "      <th>상대도수</th>\n",
       "    </tr>\n",
       "    <tr>\n",
       "      <th>계급</th>\n",
       "      <th></th>\n",
       "      <th></th>\n",
       "    </tr>\n",
       "  </thead>\n",
       "  <tbody>\n",
       "    <tr>\n",
       "      <th>(150, 160]</th>\n",
       "      <td>4</td>\n",
       "      <td>0.04</td>\n",
       "    </tr>\n",
       "    <tr>\n",
       "      <th>(160, 170]</th>\n",
       "      <td>1</td>\n",
       "      <td>0.01</td>\n",
       "    </tr>\n",
       "    <tr>\n",
       "      <th>(170, 180]</th>\n",
       "      <td>3</td>\n",
       "      <td>0.03</td>\n",
       "    </tr>\n",
       "    <tr>\n",
       "      <th>(180, 190]</th>\n",
       "      <td>2</td>\n",
       "      <td>0.02</td>\n",
       "    </tr>\n",
       "  </tbody>\n",
       "</table>\n",
       "</div>"
      ],
      "text/plain": [
       "            도수  상대도수\n",
       "계급                  \n",
       "(150, 160]   4  0.04\n",
       "(160, 170]   1  0.01\n",
       "(170, 180]   3  0.03\n",
       "(180, 190]   2  0.02"
      ]
     },
     "metadata": {},
     "output_type": "display_data"
    }
   ],
   "source": [
    "freq_df = pd.DataFrame({\"도수\": df_seoul_class.groupby('계급', observed=False).count()[\"서울\"], \\\n",
    "             \"상대도수\": df_seoul_class.groupby('계급', observed=False).count().apply(lambda x: x/100)[\"서울\"]})\n",
    "display(freq_df)"
   ]
  },
  {
   "cell_type": "code",
   "execution_count": 101,
   "id": "2f527c65-99ef-4e80-b367-bf956a6ddb4e",
   "metadata": {},
   "outputs": [
    {
     "data": {
      "text/html": [
       "<div>\n",
       "<style scoped>\n",
       "    .dataframe tbody tr th:only-of-type {\n",
       "        vertical-align: middle;\n",
       "    }\n",
       "\n",
       "    .dataframe tbody tr th {\n",
       "        vertical-align: top;\n",
       "    }\n",
       "\n",
       "    .dataframe thead th {\n",
       "        text-align: right;\n",
       "    }\n",
       "</style>\n",
       "<table border=\"1\" class=\"dataframe\">\n",
       "  <thead>\n",
       "    <tr style=\"text-align: right;\">\n",
       "      <th></th>\n",
       "      <th>계급</th>\n",
       "      <th>도수</th>\n",
       "      <th>상대도수</th>\n",
       "    </tr>\n",
       "  </thead>\n",
       "  <tbody>\n",
       "    <tr>\n",
       "      <th>0</th>\n",
       "      <td>(150, 160]</td>\n",
       "      <td>4</td>\n",
       "      <td>0.04</td>\n",
       "    </tr>\n",
       "    <tr>\n",
       "      <th>1</th>\n",
       "      <td>(160, 170]</td>\n",
       "      <td>1</td>\n",
       "      <td>0.01</td>\n",
       "    </tr>\n",
       "    <tr>\n",
       "      <th>2</th>\n",
       "      <td>(170, 180]</td>\n",
       "      <td>3</td>\n",
       "      <td>0.03</td>\n",
       "    </tr>\n",
       "    <tr>\n",
       "      <th>3</th>\n",
       "      <td>(180, 190]</td>\n",
       "      <td>2</td>\n",
       "      <td>0.02</td>\n",
       "    </tr>\n",
       "  </tbody>\n",
       "</table>\n",
       "</div>"
      ],
      "text/plain": [
       "           계급  도수  상대도수\n",
       "0  (150, 160]   4  0.04\n",
       "1  (160, 170]   1  0.01\n",
       "2  (170, 180]   3  0.03\n",
       "3  (180, 190]   2  0.02"
      ]
     },
     "execution_count": 101,
     "metadata": {},
     "output_type": "execute_result"
    }
   ],
   "source": [
    "freq_df.reset_index(drop=False)"
   ]
  },
  {
   "cell_type": "markdown",
   "id": "f75e4d70-56cc-4028-ae52-93184e86d2cf",
   "metadata": {},
   "source": [
    "#### 히스토그램 (Histogram)\n",
    "- 도수 분포표를 시각화한 그래프이다."
   ]
  },
  {
   "cell_type": "code",
   "execution_count": 102,
   "id": "2eaabcb7-5ee2-4cf1-b1dc-4a8691f0e6c4",
   "metadata": {},
   "outputs": [
    {
     "data": {
      "text/plain": [
       "<Axes: >"
      ]
     },
     "execution_count": 102,
     "metadata": {},
     "output_type": "execute_result"
    },
    {
     "data": {
      "image/png": "[encoded data removed]",
      "text/plain": [
       "<Figure size 640x480 with 1 Axes>"
      ]
     },
     "metadata": {},
     "output_type": "display_data"
    }
   ],
   "source": [
    "import matplotlib.pyplot as plt\n",
    "import numpy as np\n",
    "\n",
    "df_seoul_class[\"서울\"].hist(bins=4)"
   ]
  },
  {
   "cell_type": "markdown",
   "id": "51049cda-e8d2-42eb-93bd-07471b64e841",
   "metadata": {},
   "source": [
    "#### 산술평균 (Mean)\n",
    "- 변량의 합을 변량의 수로 나눈 값을 의미한다.\n",
    "\n",
    "<img src=\"./images/mean.png\" style=\"margin-left: 20px\"/>"
   ]
  },
  {
   "cell_type": "code",
   "execution_count": 103,
   "id": "bd0055f7-9f27-4246-a8de-95d36cec58e7",
   "metadata": {},
   "outputs": [
    {
     "data": {
      "text/html": [
       "<div>\n",
       "<style scoped>\n",
       "    .dataframe tbody tr th:only-of-type {\n",
       "        vertical-align: middle;\n",
       "    }\n",
       "\n",
       "    .dataframe tbody tr th {\n",
       "        vertical-align: top;\n",
       "    }\n",
       "\n",
       "    .dataframe thead th {\n",
       "        text-align: right;\n",
       "    }\n",
       "</style>\n",
       "<table border=\"1\" class=\"dataframe\">\n",
       "  <thead>\n",
       "    <tr style=\"text-align: right;\">\n",
       "      <th></th>\n",
       "      <th>평균 키</th>\n",
       "    </tr>\n",
       "  </thead>\n",
       "  <tbody>\n",
       "    <tr>\n",
       "      <th>서울</th>\n",
       "      <td>168.6</td>\n",
       "    </tr>\n",
       "    <tr>\n",
       "      <th>경기</th>\n",
       "      <td>167.2</td>\n",
       "    </tr>\n",
       "    <tr>\n",
       "      <th>인천</th>\n",
       "      <td>170.5</td>\n",
       "    </tr>\n",
       "    <tr>\n",
       "      <th>광주</th>\n",
       "      <td>165.1</td>\n",
       "    </tr>\n",
       "    <tr>\n",
       "      <th>대구</th>\n",
       "      <td>170.6</td>\n",
       "    </tr>\n",
       "    <tr>\n",
       "      <th>부산</th>\n",
       "      <td>168.7</td>\n",
       "    </tr>\n",
       "    <tr>\n",
       "      <th>전주</th>\n",
       "      <td>165.8</td>\n",
       "    </tr>\n",
       "    <tr>\n",
       "      <th>강릉</th>\n",
       "      <td>166.5</td>\n",
       "    </tr>\n",
       "    <tr>\n",
       "      <th>울산</th>\n",
       "      <td>173.5</td>\n",
       "    </tr>\n",
       "    <tr>\n",
       "      <th>수원</th>\n",
       "      <td>165.5</td>\n",
       "    </tr>\n",
       "  </tbody>\n",
       "</table>\n",
       "</div>"
      ],
      "text/plain": [
       "     평균 키\n",
       "서울  168.6\n",
       "경기  167.2\n",
       "인천  170.5\n",
       "광주  165.1\n",
       "대구  170.6\n",
       "부산  168.7\n",
       "전주  165.8\n",
       "강릉  166.5\n",
       "울산  173.5\n",
       "수원  165.5"
      ]
     },
     "execution_count": 103,
     "metadata": {},
     "output_type": "execute_result"
    }
   ],
   "source": [
    "df.mean(axis=0).to_frame(name='평균 키')"
   ]
  },
  {
   "cell_type": "markdown",
   "id": "abe8be48-f006-464e-9f6e-18d897b0941a",
   "metadata": {},
   "source": [
    "#### 편차 (Deviation)\n",
    "- 변량에서 평균을 뺀 값이다.\n",
    "- 각 변량의 편차를 구한뒤 모두 합하면 0이 되기 때문에 편차의 평균을 구할 수 없다."
   ]
  },
  {
   "cell_type": "code",
   "execution_count": 104,
   "id": "baae9230-4b84-4ccf-8c47-7e106e45f4ae",
   "metadata": {},
   "outputs": [
    {
     "data": {
      "text/html": [
       "<div>\n",
       "<style scoped>\n",
       "    .dataframe tbody tr th:only-of-type {\n",
       "        vertical-align: middle;\n",
       "    }\n",
       "\n",
       "    .dataframe tbody tr th {\n",
       "        vertical-align: top;\n",
       "    }\n",
       "\n",
       "    .dataframe thead th {\n",
       "        text-align: right;\n",
       "    }\n",
       "</style>\n",
       "<table border=\"1\" class=\"dataframe\">\n",
       "  <thead>\n",
       "    <tr style=\"text-align: right;\">\n",
       "      <th></th>\n",
       "      <th>경기</th>\n",
       "      <th>편차</th>\n",
       "    </tr>\n",
       "  </thead>\n",
       "  <tbody>\n",
       "    <tr>\n",
       "      <th>0</th>\n",
       "      <td>151</td>\n",
       "      <td>-16.2</td>\n",
       "    </tr>\n",
       "    <tr>\n",
       "      <th>1</th>\n",
       "      <td>168</td>\n",
       "      <td>0.8</td>\n",
       "    </tr>\n",
       "    <tr>\n",
       "      <th>2</th>\n",
       "      <td>179</td>\n",
       "      <td>11.8</td>\n",
       "    </tr>\n",
       "    <tr>\n",
       "      <th>3</th>\n",
       "      <td>164</td>\n",
       "      <td>-3.2</td>\n",
       "    </tr>\n",
       "    <tr>\n",
       "      <th>4</th>\n",
       "      <td>165</td>\n",
       "      <td>-2.2</td>\n",
       "    </tr>\n",
       "    <tr>\n",
       "      <th>5</th>\n",
       "      <td>174</td>\n",
       "      <td>6.8</td>\n",
       "    </tr>\n",
       "    <tr>\n",
       "      <th>6</th>\n",
       "      <td>183</td>\n",
       "      <td>15.8</td>\n",
       "    </tr>\n",
       "    <tr>\n",
       "      <th>7</th>\n",
       "      <td>151</td>\n",
       "      <td>-16.2</td>\n",
       "    </tr>\n",
       "    <tr>\n",
       "      <th>8</th>\n",
       "      <td>170</td>\n",
       "      <td>2.8</td>\n",
       "    </tr>\n",
       "    <tr>\n",
       "      <th>9</th>\n",
       "      <td>167</td>\n",
       "      <td>-0.2</td>\n",
       "    </tr>\n",
       "  </tbody>\n",
       "</table>\n",
       "</div>"
      ],
      "text/plain": [
       "    경기    편차\n",
       "0  151 -16.2\n",
       "1  168   0.8\n",
       "2  179  11.8\n",
       "3  164  -3.2\n",
       "4  165  -2.2\n",
       "5  174   6.8\n",
       "6  183  15.8\n",
       "7  151 -16.2\n",
       "8  170   2.8\n",
       "9  167  -0.2"
      ]
     },
     "metadata": {},
     "output_type": "display_data"
    },
    {
     "name": "stdout",
     "output_type": "stream",
     "text": [
      "1.1368683772161603e-13\n",
      "편차의 합: 0\n"
     ]
    }
   ],
   "source": [
    "gyeonggi_df = df['경기'].to_frame()\n",
    "gyeonggi_df['편차'] = gyeonggi_df['경기'].apply(lambda x: x - gyeonggi_df.mean())\n",
    "display(gyeonggi_df)\n",
    "\n",
    "# e가 붙어있는 수는 엄청 작은 수나 엄청 큰 수를 간략화 해주는 기능\n",
    "# 이때 e는 자연 사우가 아니며, 과학적 기수법 e라고 한다.\n",
    "# (a)e(b) = a * 10^b\n",
    "\n",
    "print(gyeonggi_df['편차'].sum())\n",
    "\n",
    "# 시룻의 오류를 원래 값으로 변경하고자 반올림(round) 사용\n",
    "total = round(gyeonggi_df['편차'].sum())\n",
    "print(f'편차의 합: {total}')"
   ]
  },
  {
   "cell_type": "code",
   "execution_count": 105,
   "id": "c9d4f08d-47c4-4ca5-8186-e0d3b834144e",
   "metadata": {},
   "outputs": [
    {
     "data": {
      "text/html": [
       "<div>\n",
       "<style scoped>\n",
       "    .dataframe tbody tr th:only-of-type {\n",
       "        vertical-align: middle;\n",
       "    }\n",
       "\n",
       "    .dataframe tbody tr th {\n",
       "        vertical-align: top;\n",
       "    }\n",
       "\n",
       "    .dataframe thead th {\n",
       "        text-align: right;\n",
       "    }\n",
       "</style>\n",
       "<table border=\"1\" class=\"dataframe\">\n",
       "  <thead>\n",
       "    <tr style=\"text-align: right;\">\n",
       "      <th></th>\n",
       "      <th>서울</th>\n",
       "      <th>경기</th>\n",
       "      <th>인천</th>\n",
       "      <th>광주</th>\n",
       "      <th>대구</th>\n",
       "      <th>부산</th>\n",
       "      <th>전주</th>\n",
       "      <th>강릉</th>\n",
       "      <th>울산</th>\n",
       "      <th>수원</th>\n",
       "    </tr>\n",
       "  </thead>\n",
       "  <tbody>\n",
       "    <tr>\n",
       "      <th>count</th>\n",
       "      <td>10.000000</td>\n",
       "      <td>10.000000</td>\n",
       "      <td>10.000000</td>\n",
       "      <td>10.000000</td>\n",
       "      <td>10.000000</td>\n",
       "      <td>10.000000</td>\n",
       "      <td>10.000000</td>\n",
       "      <td>10.000000</td>\n",
       "      <td>10.00000</td>\n",
       "      <td>10.000000</td>\n",
       "    </tr>\n",
       "    <tr>\n",
       "      <th>mean</th>\n",
       "      <td>168.600000</td>\n",
       "      <td>167.200000</td>\n",
       "      <td>170.500000</td>\n",
       "      <td>165.100000</td>\n",
       "      <td>170.600000</td>\n",
       "      <td>168.700000</td>\n",
       "      <td>165.800000</td>\n",
       "      <td>166.500000</td>\n",
       "      <td>173.50000</td>\n",
       "      <td>165.500000</td>\n",
       "    </tr>\n",
       "    <tr>\n",
       "      <th>std</th>\n",
       "      <td>12.276445</td>\n",
       "      <td>10.454133</td>\n",
       "      <td>13.978158</td>\n",
       "      <td>9.255029</td>\n",
       "      <td>9.946524</td>\n",
       "      <td>11.557105</td>\n",
       "      <td>12.007405</td>\n",
       "      <td>8.984555</td>\n",
       "      <td>8.93495</td>\n",
       "      <td>11.806307</td>\n",
       "    </tr>\n",
       "    <tr>\n",
       "      <th>min</th>\n",
       "      <td>152.000000</td>\n",
       "      <td>151.000000</td>\n",
       "      <td>151.000000</td>\n",
       "      <td>156.000000</td>\n",
       "      <td>154.000000</td>\n",
       "      <td>153.000000</td>\n",
       "      <td>151.000000</td>\n",
       "      <td>158.000000</td>\n",
       "      <td>163.00000</td>\n",
       "      <td>153.000000</td>\n",
       "    </tr>\n",
       "    <tr>\n",
       "      <th>25%</th>\n",
       "      <td>159.000000</td>\n",
       "      <td>164.250000</td>\n",
       "      <td>160.000000</td>\n",
       "      <td>157.000000</td>\n",
       "      <td>168.250000</td>\n",
       "      <td>159.250000</td>\n",
       "      <td>155.250000</td>\n",
       "      <td>160.000000</td>\n",
       "      <td>165.25000</td>\n",
       "      <td>159.000000</td>\n",
       "    </tr>\n",
       "    <tr>\n",
       "      <th>50%</th>\n",
       "      <td>168.500000</td>\n",
       "      <td>167.500000</td>\n",
       "      <td>167.000000</td>\n",
       "      <td>163.000000</td>\n",
       "      <td>170.500000</td>\n",
       "      <td>168.500000</td>\n",
       "      <td>166.000000</td>\n",
       "      <td>163.000000</td>\n",
       "      <td>173.00000</td>\n",
       "      <td>160.500000</td>\n",
       "    </tr>\n",
       "    <tr>\n",
       "      <th>75%</th>\n",
       "      <td>176.250000</td>\n",
       "      <td>173.000000</td>\n",
       "      <td>185.000000</td>\n",
       "      <td>170.750000</td>\n",
       "      <td>177.000000</td>\n",
       "      <td>178.500000</td>\n",
       "      <td>176.250000</td>\n",
       "      <td>173.000000</td>\n",
       "      <td>181.00000</td>\n",
       "      <td>174.000000</td>\n",
       "    </tr>\n",
       "    <tr>\n",
       "      <th>max</th>\n",
       "      <td>188.000000</td>\n",
       "      <td>183.000000</td>\n",
       "      <td>187.000000</td>\n",
       "      <td>180.000000</td>\n",
       "      <td>186.000000</td>\n",
       "      <td>186.000000</td>\n",
       "      <td>181.000000</td>\n",
       "      <td>185.000000</td>\n",
       "      <td>185.00000</td>\n",
       "      <td>184.000000</td>\n",
       "    </tr>\n",
       "  </tbody>\n",
       "</table>\n",
       "</div>"
      ],
      "text/plain": [
       "               서울          경기          인천          광주          대구          부산  \\\n",
       "count   10.000000   10.000000   10.000000   10.000000   10.000000   10.000000   \n",
       "mean   168.600000  167.200000  170.500000  165.100000  170.600000  168.700000   \n",
       "std     12.276445   10.454133   13.978158    9.255029    9.946524   11.557105   \n",
       "min    152.000000  151.000000  151.000000  156.000000  154.000000  153.000000   \n",
       "25%    159.000000  164.250000  160.000000  157.000000  168.250000  159.250000   \n",
       "50%    168.500000  167.500000  167.000000  163.000000  170.500000  168.500000   \n",
       "75%    176.250000  173.000000  185.000000  170.750000  177.000000  178.500000   \n",
       "max    188.000000  183.000000  187.000000  180.000000  186.000000  186.000000   \n",
       "\n",
       "               전주          강릉         울산          수원  \n",
       "count   10.000000   10.000000   10.00000   10.000000  \n",
       "mean   165.800000  166.500000  173.50000  165.500000  \n",
       "std     12.007405    8.984555    8.93495   11.806307  \n",
       "min    151.000000  158.000000  163.00000  153.000000  \n",
       "25%    155.250000  160.000000  165.25000  159.000000  \n",
       "50%    166.000000  163.000000  173.00000  160.500000  \n",
       "75%    176.250000  173.000000  181.00000  174.000000  \n",
       "max    181.000000  185.000000  185.00000  184.000000  "
      ]
     },
     "execution_count": 105,
     "metadata": {},
     "output_type": "execute_result"
    }
   ],
   "source": [
    "df.describe()"
   ]
  },
  {
   "cell_type": "markdown",
   "id": "c40786e1-cc85-463a-af81-551b47e51f32",
   "metadata": {},
   "source": [
    "#### 분산 (Variance)\n",
    "- 변량이 평균으로부터 떨어져 있는 정도를 보기 위한 통계량이다.\n",
    "- 편차에 제곱하여 그 합을 구한 뒤 산술 평균을 낸다.\n",
    "\n",
    "<img src=\"./images/variance.png\" style=\"margin-lefr: 10px\"/>"
   ]
  },
  {
   "cell_type": "code",
   "execution_count": 106,
   "id": "e035f507-9964-4e46-b277-f8887f7c7793",
   "metadata": {},
   "outputs": [
    {
     "data": {
      "text/html": [
       "<div>\n",
       "<style scoped>\n",
       "    .dataframe tbody tr th:only-of-type {\n",
       "        vertical-align: middle;\n",
       "    }\n",
       "\n",
       "    .dataframe tbody tr th {\n",
       "        vertical-align: top;\n",
       "    }\n",
       "\n",
       "    .dataframe thead th {\n",
       "        text-align: right;\n",
       "    }\n",
       "</style>\n",
       "<table border=\"1\" class=\"dataframe\">\n",
       "  <thead>\n",
       "    <tr style=\"text-align: right;\">\n",
       "      <th></th>\n",
       "      <th>경기</th>\n",
       "      <th>편차</th>\n",
       "      <th>편차의 제곱(분산)</th>\n",
       "    </tr>\n",
       "  </thead>\n",
       "  <tbody>\n",
       "    <tr>\n",
       "      <th>0</th>\n",
       "      <td>151</td>\n",
       "      <td>-16.2</td>\n",
       "      <td>262.44</td>\n",
       "    </tr>\n",
       "    <tr>\n",
       "      <th>1</th>\n",
       "      <td>168</td>\n",
       "      <td>0.8</td>\n",
       "      <td>0.64</td>\n",
       "    </tr>\n",
       "    <tr>\n",
       "      <th>2</th>\n",
       "      <td>179</td>\n",
       "      <td>11.8</td>\n",
       "      <td>139.24</td>\n",
       "    </tr>\n",
       "    <tr>\n",
       "      <th>3</th>\n",
       "      <td>164</td>\n",
       "      <td>-3.2</td>\n",
       "      <td>10.24</td>\n",
       "    </tr>\n",
       "    <tr>\n",
       "      <th>4</th>\n",
       "      <td>165</td>\n",
       "      <td>-2.2</td>\n",
       "      <td>4.84</td>\n",
       "    </tr>\n",
       "    <tr>\n",
       "      <th>5</th>\n",
       "      <td>174</td>\n",
       "      <td>6.8</td>\n",
       "      <td>46.24</td>\n",
       "    </tr>\n",
       "    <tr>\n",
       "      <th>6</th>\n",
       "      <td>183</td>\n",
       "      <td>15.8</td>\n",
       "      <td>249.64</td>\n",
       "    </tr>\n",
       "    <tr>\n",
       "      <th>7</th>\n",
       "      <td>151</td>\n",
       "      <td>-16.2</td>\n",
       "      <td>262.44</td>\n",
       "    </tr>\n",
       "    <tr>\n",
       "      <th>8</th>\n",
       "      <td>170</td>\n",
       "      <td>2.8</td>\n",
       "      <td>7.84</td>\n",
       "    </tr>\n",
       "    <tr>\n",
       "      <th>9</th>\n",
       "      <td>167</td>\n",
       "      <td>-0.2</td>\n",
       "      <td>0.04</td>\n",
       "    </tr>\n",
       "  </tbody>\n",
       "</table>\n",
       "</div>"
      ],
      "text/plain": [
       "    경기    편차  편차의 제곱(분산)\n",
       "0  151 -16.2      262.44\n",
       "1  168   0.8        0.64\n",
       "2  179  11.8      139.24\n",
       "3  164  -3.2       10.24\n",
       "4  165  -2.2        4.84\n",
       "5  174   6.8       46.24\n",
       "6  183  15.8      249.64\n",
       "7  151 -16.2      262.44\n",
       "8  170   2.8        7.84\n",
       "9  167  -0.2        0.04"
      ]
     },
     "metadata": {},
     "output_type": "display_data"
    },
    {
     "name": "stdout",
     "output_type": "stream",
     "text": [
      "분산: 98.36\n"
     ]
    }
   ],
   "source": [
    "gyeonggi_df['편차의 제곱(분산)'] = gyeonggi_df['편차'].apply(lambda x: x**2)\n",
    "\n",
    "display(gyeonggi_df)\n",
    "\n",
    "variance = gyeonggi_df['편차의 제곱(분산)'].mean()\n",
    "print(f'분산: {round(variance, 2)}')"
   ]
  },
  {
   "cell_type": "markdown",
   "id": "44f704d1-cb56-4f8b-adfe-4e1ebdee6ffd",
   "metadata": {},
   "source": [
    "#### 표준편차 (Standard deviation)\n",
    "- 분산의 제곱근이며, 관측된 변량의 흩어진 정도를 하나의 수치로 나타내는 통계량이다.\n",
    "- 표준편차가 작을 수록 평균 값에서 변량들의 거리가 가깝다고 판단한다.\n",
    "\n",
    "<img src=\"./images/standard_deviation.png\" style=\"margin-lefr: 10px\"/>"
   ]
  },
  {
   "cell_type": "code",
   "execution_count": 107,
   "id": "e5ef1a01-c53e-440a-baf5-2d2ffe439750",
   "metadata": {},
   "outputs": [
    {
     "name": "stdout",
     "output_type": "stream",
     "text": [
      "표준편차: 9.91766101457395\n"
     ]
    }
   ],
   "source": [
    "import math\n",
    "\n",
    "std = math.sqrt(variance)\n",
    "print(f'표준편차: {std}')"
   ]
  },
  {
   "cell_type": "markdown",
   "id": "e7b76fd7-7f12-4386-91ff-26eb430b6404",
   "metadata": {},
   "source": [
    "#### 확률변수 (Random variable)\n",
    "- 머신러닝, 딥러닝 등 확률을 다루는 분야에 있어서 필수적인 개념이다.\n",
    "- 확률(probability)이 있다는 뜻은 사건(event)이 있다는 뜻이며, 시행(trial)을 해야 시행의 결과인 사건(event)이 나타난다.\n",
    "- 시행(trial)을 해서 어떤 사건(event)이 나타났는지에 따라 값이 정해지는 변수이다.\n",
    "- 알파벳 대문자로 표현하며, X, Y, Z 또는 X<sub>1</sub> X<sub>2</sub> X<sub>3</sub>과 같이 표현한다.\n",
    "- 학률 변수는 집합이며, 원소를 확률변수값(Value of random variable)이라고 표현한다. 확률변수에서 사용한 알파벳의 소문자를 사용한다.\n",
    "- Y = {y<sub>1</sub>, y<sub>2</sub>, y<sub31</sub>}, 이 때 Y는 확률변수이고 원소인 y<sub>1</sub> ~ y<sub>3</sub>은 확률변수값이다.\n",
    "\n",
    "<img src=\"./images/random_variable.jpg\" width=\"700px\" style=\"margin-left: 15px\">"
   ]
  },
  {
   "cell_type": "markdown",
   "id": "b524134d-a4e3-4ad3-97b3-dc6631209f75",
   "metadata": {},
   "source": [
    "#### 범주형 확률변수 (Categorical random variable)\n",
    "- 범주형 확률변수값은 수치가 아닌 기호나 언어, 숫자등으로 표현하고, 기호나 언어는 순서를 가질 수도 있다.\n",
    "- 유한집합으로 표현한다. 유한집합은 원소의 수가 유한한 집합을 의미한다.\n",
    "- {앞면, 뒷면}, {동의, 비동의}, {선택, 미선택}, {봄, 여름, 가을, 겨울}"
   ]
  },
  {
   "cell_type": "markdown",
   "id": "a0aa03e4-ff18-4551-ae87-548bdcec8c66",
   "metadata": {},
   "source": [
    "#### 이산형 확률변수 (Discrete random variable)\n",
    "- 이산형 확률변수값은 수치로 표현하고 셀 수 있는 값이다. 이를 더 넓은 범위로, 양적 확률 변수 또는 수치형 확률 변수라고도 한다.\n",
    "- 유한 집합 또는 셀 수 있는 무한 집합으로 표현한다. 무한 집합은 원소의 수가 무한한 집합을 의미한다.\n",
    "- {0, 1, 2, 3}, {10, 20, 30}, {1, 2, 3, ...}, {100, 1000, 10000}"
   ]
  },
  {
   "cell_type": "markdown",
   "id": "8b938905-19e7-4c01-ab24-aec48f60a605",
   "metadata": {},
   "source": [
    "#### 연속형 확률변수 (Continuous random variable)\n",
    "- 연속형 확률 변수는 구간을 나타내는 수치로 표현한다. 이를 더 없은 범위로, 양적 확률 변수 또는 수피형 확률 변수라고도 부른다.\n",
    "- 셀 수 없는 무한집합으로 표현한다.\n",
    "- 128.56 < X < 268.56"
   ]
  },
  {
   "cell_type": "markdown",
   "id": "c16625ac-0bfe-487b-959c-cd33ef0cd158",
   "metadata": {},
   "source": [
    "#### 확률분포 (Probability distribution)\n",
    "- 사건에 대한 확률 변수에서 정의된 모든 확률 값의 분포이며 서로 다른 모든 결과의 출현 확률을 제공한다.\n",
    "> <strong>1) 동전 던지기(시행)</strong>  \n",
    "> <strong>2) { 0, 1 } (확률변수와 학률변수값)</strong>  \n",
    "> <strong>3) 완벽한 형태의 동전일 경우 확률 분포</strong>  \n",
    ">\n",
    "> <img src=\"./images/probability_distribution01.png\">\n",
    ">  \n",
    "> <strong>1) 1 ~ 12까지 새겨진 주사위 던지기(시행)</strong>  \n",
    "> <strong>2) { 1, 2, 3, 4, 5, 6, 7, 8, 9, 10, 11, 12 } (확률변수와 학률변수값)</strong>  \n",
    "> <strong>3) 완벽한 형태의 주사위일 경우 확률 분포</strong>  \n",
    ">\n",
    "> <img src=\"./images/probability_distribution02.png\">\n"
   ]
  },
  {
   "cell_type": "markdown",
   "id": "73d3a1d0-9f2a-434a-9330-fcc69e8b720e",
   "metadata": {},
   "source": [
    "#### 확률분포표 (Probability distribution table)\n",
    "- 확률변수의 모든 값(원소)에 대해 확률을 표로 표시한 것이다.\n",
    "- 범주형 또는 이산형 확률 변수의 확률 분포를 표현하기에 적합한 방식이다."
   ]
  },
  {
   "cell_type": "code",
   "execution_count": 108,
   "id": "b0137575-26ac-473f-ac26-f4ee7112ab1a",
   "metadata": {},
   "outputs": [
    {
     "data": {
      "text/html": [
       "<div>\n",
       "<style scoped>\n",
       "    .dataframe tbody tr th:only-of-type {\n",
       "        vertical-align: middle;\n",
       "    }\n",
       "\n",
       "    .dataframe tbody tr th {\n",
       "        vertical-align: top;\n",
       "    }\n",
       "\n",
       "    .dataframe thead th {\n",
       "        text-align: right;\n",
       "    }\n",
       "</style>\n",
       "<table border=\"1\" class=\"dataframe\">\n",
       "  <thead>\n",
       "    <tr style=\"text-align: right;\">\n",
       "      <th></th>\n",
       "      <th>경주마 번호</th>\n",
       "      <th>1등 횟수</th>\n",
       "      <th>1등할 확률</th>\n",
       "    </tr>\n",
       "  </thead>\n",
       "  <tbody>\n",
       "    <tr>\n",
       "      <th>0</th>\n",
       "      <td>1</td>\n",
       "      <td>25</td>\n",
       "      <td>0.25</td>\n",
       "    </tr>\n",
       "    <tr>\n",
       "      <th>1</th>\n",
       "      <td>2</td>\n",
       "      <td>25</td>\n",
       "      <td>0.25</td>\n",
       "    </tr>\n",
       "    <tr>\n",
       "      <th>2</th>\n",
       "      <td>3</td>\n",
       "      <td>25</td>\n",
       "      <td>0.25</td>\n",
       "    </tr>\n",
       "    <tr>\n",
       "      <th>3</th>\n",
       "      <td>4</td>\n",
       "      <td>25</td>\n",
       "      <td>0.25</td>\n",
       "    </tr>\n",
       "  </tbody>\n",
       "</table>\n",
       "</div>"
      ],
      "text/plain": [
       "   경주마 번호  1등 횟수  1등할 확률\n",
       "0       1     25    0.25\n",
       "1       2     25    0.25\n",
       "2       3     25    0.25\n",
       "3       4     25    0.25"
      ]
     },
     "metadata": {},
     "output_type": "display_data"
    }
   ],
   "source": [
    "import numpy as np\n",
    "import pandas as pd\n",
    "\n",
    "df_h_dist = pd.DataFrame(np.arange(0, 100) % 4 + 1, columns=['경주마 번호'])\n",
    "\n",
    "df_h_dist_group = df_h_dist.groupby('경주마 번호')[\"경주마 번호\"].count().reset_index(name=\"1등 횟수\")\n",
    "\n",
    "df_h_dist_group['1등할 확률'] = df_h_dist_group['1등 횟수'] / 100\n",
    "display(df_h_dist_group)"
   ]
  },
  {
   "cell_type": "markdown",
   "id": "e2850e65-fce4-4293-9a93-95ab83f67b43",
   "metadata": {},
   "source": [
    "#### 확률분포함수 (Probability distribution funtion)\r\n",
    "- 확률변수의 분포를 나타내는 함수로서, 확률변수의 확률변수값이 나올 확률을 나타내는 함수이다.\r\n",
    "- 확률질량함수, 확률밀도함수 등의 함수가 있다."
   ]
  },
  {
   "cell_type": "code",
   "execution_count": 109,
   "id": "a46d9bc8-f5b4-4467-9c4e-a4ae865d794b",
   "metadata": {},
   "outputs": [
    {
     "data": {
      "image/png": "[encoded data removed]",
      "text/plain": [
       "<Figure size 640x480 with 1 Axes>"
      ]
     },
     "metadata": {},
     "output_type": "display_data"
    }
   ],
   "source": [
    "import matplotlib.pyplot as plt\n",
    "import numpy as np\n",
    "\n",
    "plt.hist(df_h_dist['경주마 번호'], range(1, 6), density=True, color='pink', edgecolor=\"red\")\n",
    "plt.xlim(0,6)\n",
    "plt.ylim(0,1)\n",
    "plt.show()"
   ]
  },
  {
   "cell_type": "markdown",
   "id": "06fea588-0258-4577-9bd2-72df12acd512",
   "metadata": {},
   "source": [
    "#### 확률질량 함수 (Probability mass function, pmf)\n",
    "- 확률변수 X의 분포를 나타내는 함수로서, x<sub>i</sub>가 나올 확률이다.\n",
    "- 확률 변수의 값을 매개변수로 전달 받고, 해당 값이 나타날 확률을 구해서 리턴하는 함수이다.\n",
    "- 범주형 확률변수와 이산형 확률 변수에서 사용된다.\n",
    "- 확률변수에서 각 값에 대한 확률을 나타내는 것이 마치 각 값이 \"질량\"을 가지고 있는 것처럼 보이기 때문에 확률 질량 함수로 불린다.\n",
    "\n",
    "> 확률질량 함수 f는 확률변수 X가 변수값으로 가질때의 확률이다.  \n",
    "> <img src=\"./images/pmf01.png\" style=\"margin-top:10px\">  \n",
    "> <img src=\"./images/pmf02.png\">  \n",
    "> <img src=\"./images/pmf03.png\">"
   ]
  },
  {
   "cell_type": "code",
   "execution_count": 110,
   "id": "e40b5733-135e-44e0-bf19-d7bb72710214",
   "metadata": {},
   "outputs": [
    {
     "data": {
      "text/html": [
       "<div>\n",
       "<style scoped>\n",
       "    .dataframe tbody tr th:only-of-type {\n",
       "        vertical-align: middle;\n",
       "    }\n",
       "\n",
       "    .dataframe tbody tr th {\n",
       "        vertical-align: top;\n",
       "    }\n",
       "\n",
       "    .dataframe thead th {\n",
       "        text-align: right;\n",
       "    }\n",
       "</style>\n",
       "<table border=\"1\" class=\"dataframe\">\n",
       "  <thead>\n",
       "    <tr style=\"text-align: right;\">\n",
       "      <th></th>\n",
       "      <th>경주마 번호</th>\n",
       "      <th>1등 횟수</th>\n",
       "      <th>1등할 확률</th>\n",
       "    </tr>\n",
       "  </thead>\n",
       "  <tbody>\n",
       "    <tr>\n",
       "      <th>0</th>\n",
       "      <td>1</td>\n",
       "      <td>22</td>\n",
       "      <td>0.22</td>\n",
       "    </tr>\n",
       "    <tr>\n",
       "      <th>1</th>\n",
       "      <td>2</td>\n",
       "      <td>28</td>\n",
       "      <td>0.28</td>\n",
       "    </tr>\n",
       "    <tr>\n",
       "      <th>2</th>\n",
       "      <td>3</td>\n",
       "      <td>22</td>\n",
       "      <td>0.22</td>\n",
       "    </tr>\n",
       "    <tr>\n",
       "      <th>3</th>\n",
       "      <td>4</td>\n",
       "      <td>28</td>\n",
       "      <td>0.28</td>\n",
       "    </tr>\n",
       "  </tbody>\n",
       "</table>\n",
       "</div>"
      ],
      "text/plain": [
       "   경주마 번호  1등 횟수  1등할 확률\n",
       "0       1     22    0.22\n",
       "1       2     28    0.28\n",
       "2       3     22    0.22\n",
       "3       4     28    0.28"
      ]
     },
     "metadata": {},
     "output_type": "display_data"
    }
   ],
   "source": [
    "import numpy as np\n",
    "import pandas as pd\n",
    "\n",
    "df_h = pd.DataFrame(np.random.randint(1, 5, size=(100, 1)), columns=[\"경주마 번호\"])\n",
    "\n",
    "df_h_group = df_h.groupby(\"경주마 번호\")[\"경주마 번호\"].count().reset_index(name=\"1등 횟수\")\n",
    "\n",
    "df_h_group[\"1등할 확률\"] = df_h_group[\"1등 횟수\"] / 100\n",
    "\n",
    "\n",
    "display(df_h_group)"
   ]
  },
  {
   "cell_type": "code",
   "execution_count": 111,
   "id": "ed3feb9f-8ae1-40b0-a320-f4470cbc5740",
   "metadata": {},
   "outputs": [
    {
     "data": {
      "text/plain": [
       "(array([0.22, 0.28, 0.22, 0.28]),\n",
       " array([1., 2., 3., 4., 5.]),\n",
       " <BarContainer object of 4 artists>)"
      ]
     },
     "execution_count": 111,
     "metadata": {},
     "output_type": "execute_result"
    },
    {
     "data": {
      "image/png": "[encoded data removed]",
      "text/plain": [
       "<Figure size 640x480 with 1 Axes>"
      ]
     },
     "metadata": {},
     "output_type": "display_data"
    }
   ],
   "source": [
    "import matplotlib.pyplot as plt\n",
    "import numpy as np\n",
    "\n",
    "plt.hist(df_h['경주마 번호'], range(1, 6), density=True\\\n",
    "         , color='pink', edgecolor='red', linewidth=2)"
   ]
  },
  {
   "cell_type": "markdown",
   "id": "4e1a6813-d51b-4acf-a9b9-35e35ac9b92f",
   "metadata": {},
   "source": [
    "#### 무한대 (Infinity)\n",
    "- 끝없이 커지는 상태를 의미하고 기호로 ∞를 사용한다."
   ]
  },
  {
   "cell_type": "markdown",
   "id": "6c48c5b4-91e9-4bef-b14c-73975d7e24af",
   "metadata": {},
   "source": [
    "#### 무한소 (Infinitesimal)\n",
    "- 거의 없다는 의미이고, 0에 매우 근접하지만 0이 아닌 상태를 의미한다."
   ]
  },
  {
   "cell_type": "markdown",
   "id": "45c5a841-a416-419c-bbcf-ff234429c21e",
   "metadata": {},
   "source": [
    "#### 미분 (Differential)\n",
    "- 기울기는 독립변수가 종속 변수에 미치는 영향력의 크기를 의미한다.\n",
    "- 변경 전의 독립변수 x<sub>1</sub> 이라는 점과 변경 후의 x<sub>2</sub>라는 점을 지나는 직선의 기울기가 바로 변화에 대한 속도이다.\n",
    "- 즉 , 직선의 기울기가 4로 구해졌다면, 종속변수가 독립변수의 변화에 4배 속도로 변화된 것이다.\n",
    "- 이 때, 두점 사이가 무한히 가까워지면, 결국 거의 한점과 같은 점에 대한 접선의 기울기가 되고 이는 순간적인 변화량이다.\n",
    "- 미분을 통해서 독립변수가 굉장히 미세하게 변화할 때 순간적으로 종속 변수가 얼마나 빠르게 변화하는 지를 알수 있다."
   ]
  },
  {
   "cell_type": "markdown",
   "id": "5f20c272-ebf0-4d5c-a78d-4996fb306868",
   "metadata": {},
   "source": [
    "#### 적분 (Integral)\n",
    "- 선분 = 높이(길이), 면적 = 가로 X 높이\n",
    "- 면적을 구할 때 여러 사각형으로 나눈 뒤 합하여도 전체 면적이 나온다.\n",
    "- 가로가 무한소 0인 사각형 즉, 선분과 비슷한 사각형을 쌓은 뒤, 각 면적을 모두 합하는 것이 적분이다."
   ]
  },
  {
   "cell_type": "markdown",
   "id": "f3d60018-4b16-49c2-9bc6-308e265c0ca9",
   "metadata": {},
   "source": [
    "#### 확률밀도 함수 (Probability density function, pdf)\n",
    "- 확률 변수 X의 분포를 나타내는 함수로서, 특정 구간에 속할 확률이고 이는 특정 구간을 적분한 값이다.\n",
    "- 확률변수값의 범위(구간)를 매개변수로 전달받고, 범위의 넓이는 구해서 리턴하는 함수이다.\n",
    "- 연속형 확률변수에서 사용된다.\n",
    "- 전체에 대한 확률이 아닌 구간에 포함될 확률을 나타내기 때문에구간에 다른 밀도를 구하는 것이고, 이를 통해 확률밀도 함수라 불린다.\n",
    "\n",
    "> 확률 밀도 함수 f는 특정 구간에 포함될 확률을 나타낸다.  \n",
    "> <img src=\"./images/pdf01.png\" style=\"margin-top:10px\">  \n",
    "> <img src=\"./images/pdf02.png\">  \n",
    "> <img src=\"./images/pdf03.png\">  \n",
    "> <img src=\"./images/pdf04.png\">"
   ]
  },
  {
   "cell_type": "code",
   "execution_count": 117,
   "id": "5b6b9315-b759-47a8-8a3d-b5665324485a",
   "metadata": {},
   "outputs": [
    {
     "name": "stdout",
     "output_type": "stream",
     "text": [
      "구간 [-1, 2]에서의 확률: 0.8185946141203638\n"
     ]
    },
    {
     "data": {
      "image/png": "[encoded data removed]",
      "text/plain": [
       "<Figure size 640x480 with 1 Axes>"
      ]
     },
     "metadata": {},
     "output_type": "display_data"
    }
   ],
   "source": [
    "import numpy as np\n",
    "import matplotlib.pyplot as plt\n",
    "from scipy.integrate import quad\n",
    "\n",
    "# 임의의 확률밀도 함수 정의\n",
    "def pdf(x):\n",
    "    # 정규분포\n",
    "    mu = 0\n",
    "    sigma = 1\n",
    "    return 1 / (sigma * np.sqrt(2 * np.pi)) * np.exp(-((x - mu) / sigma) ** 2 / 2)\n",
    "\n",
    "# 랜덤한 구간\n",
    "a = -1\n",
    "b = 2\n",
    "\n",
    "def calculate_probability_in_range(a, b):\n",
    "    probability, _ = quad(pdf, a, b)\n",
    "    return probability\n",
    "\n",
    "probability = calculate_probability_in_range(a, b)\n",
    "print(f'구간 [{a}, {b}]에서의 확률: {probability}')\n",
    "\n",
    "x_values = np.linspace(-5, 5, 10000)\n",
    "y_values = pdf(x_values)\n",
    "\n",
    "plt.plot(x_values, y_values, label='pdf', color='blue')\n",
    "plt.fill_between(x_values, y_values\\\n",
    "                 , where=(x_values >= a) & (x_values <= b)\\\n",
    "                 , color='skyblue', alpha=0.5, label='area')\n",
    "plt.axvline(x=a, linestyle='--', color='red', label='start')\n",
    "plt.axvline(x=b, linestyle='--', color='red', label='end')\n",
    "plt.xlabel('x')\n",
    "plt.ylabel('density')\n",
    "plt.title('Probability density function')\n",
    "plt.legend()\n",
    "plt.grid(True)\n",
    "plt.show()"
   ]
  },
  {
   "cell_type": "code",
   "execution_count": null,
   "id": "5db7e869-fc5f-4ad6-8306-4f4819abab00",
   "metadata": {},
   "outputs": [],
   "source": []
  },
  {
   "cell_type": "code",
   "execution_count": null,
   "id": "b9440691-c68d-459e-b64d-300791d0f86f",
   "metadata": {},
   "outputs": [],
   "source": []
  },
  {
   "cell_type": "code",
   "execution_count": null,
   "id": "e4cbbaa4-3267-4efd-b46b-26c58a4c7bc3",
   "metadata": {},
   "outputs": [],
   "source": []
  },
  {
   "cell_type": "code",
   "execution_count": null,
   "id": "7c2b4f84-f2a7-4901-a9cc-8f10ad8777ab",
   "metadata": {},
   "outputs": [],
   "source": []
  },
  {
   "cell_type": "code",
   "execution_count": null,
   "id": "d9bde5f6-9b9e-4cd8-a56f-726252bd1057",
   "metadata": {},
   "outputs": [],
   "source": []
  },
  {
   "cell_type": "code",
   "execution_count": null,
   "id": "6012691d-f68a-4c57-9d28-48b58ba5f4a0",
   "metadata": {},
   "outputs": [],
   "source": []
  },
  {
   "cell_type": "code",
   "execution_count": null,
   "id": "6478f808-3d42-4637-ae19-91dcb8650864",
   "metadata": {},
   "outputs": [],
   "source": []
  },
  {
   "cell_type": "code",
   "execution_count": null,
   "id": "1e0c7549-a0de-4b01-a534-32873a159a6a",
   "metadata": {},
   "outputs": [],
   "source": []
  },
  {
   "cell_type": "code",
   "execution_count": null,
   "id": "eedcfd84-2541-476f-be87-71d9157a5c5f",
   "metadata": {},
   "outputs": [],
   "source": []
  },
  {
   "cell_type": "code",
   "execution_count": null,
   "id": "6ede88aa-82a1-4b8b-97ec-b56f35504fb6",
   "metadata": {},
   "outputs": [],
   "source": []
  },
  {
   "cell_type": "code",
   "execution_count": null,
   "id": "9ea7e1db-bbdf-4716-9aa9-b82a84969f1f",
   "metadata": {},
   "outputs": [],
   "source": []
  },
  {
   "cell_type": "code",
   "execution_count": null,
   "id": "e19c3231-850d-425e-841e-e4b4e8e77a45",
   "metadata": {},
   "outputs": [],
   "source": []
  },
  {
   "cell_type": "code",
   "execution_count": null,
   "id": "95fac7a5-acee-4289-9893-a46d1c266985",
   "metadata": {},
   "outputs": [],
   "source": []
  },
  {
   "cell_type": "code",
   "execution_count": null,
   "id": "4e38088d-88d3-42f9-a289-b4589725775c",
   "metadata": {},
   "outputs": [],
   "source": []
  },
  {
   "cell_type": "code",
   "execution_count": null,
   "id": "6415d075-d360-463b-bd9a-18a69da47280",
   "metadata": {},
   "outputs": [],
   "source": []
  },
  {
   "cell_type": "code",
   "execution_count": null,
   "id": "12cef0fa-ccc6-4e33-aa5b-4e2c26625c09",
   "metadata": {},
   "outputs": [],
   "source": []
  },
  {
   "cell_type": "code",
   "execution_count": null,
   "id": "0867d068-a3bd-4acb-bbb6-a22357e02637",
   "metadata": {},
   "outputs": [],
   "source": []
  },
  {
   "cell_type": "code",
   "execution_count": null,
   "id": "2e0dc306-a43e-4159-bc24-57358f327fe9",
   "metadata": {},
   "outputs": [],
   "source": []
  },
  {
   "cell_type": "code",
   "execution_count": null,
   "id": "028b5a50-6363-4612-b187-adfa02b69b39",
   "metadata": {},
   "outputs": [],
   "source": []
  },
  {
   "cell_type": "code",
   "execution_count": null,
   "id": "f68be465-d71e-456a-954b-17b59149994d",
   "metadata": {},
   "outputs": [],
   "source": []
  },
  {
   "cell_type": "code",
   "execution_count": null,
   "id": "0663b2c3-04b2-4621-b46b-21e00edec4b0",
   "metadata": {},
   "outputs": [],
   "source": []
  },
  {
   "cell_type": "code",
   "execution_count": null,
   "id": "69de56a7-7f9e-4dd5-9efb-45ab306ce631",
   "metadata": {},
   "outputs": [],
   "source": []
  },
  {
   "cell_type": "code",
   "execution_count": null,
   "id": "e96c4256-7c2f-4cf7-8969-9de1ab7c75f0",
   "metadata": {},
   "outputs": [],
   "source": []
  },
  {
   "cell_type": "code",
   "execution_count": null,
   "id": "c558f937-4501-4d11-b290-e7a720adb3c7",
   "metadata": {},
   "outputs": [],
   "source": []
  }
 ],
 "metadata": {
  "kernelspec": {
   "display_name": "Python 3 (ipykernel)",
   "language": "python",
   "name": "python3"
  },
  "language_info": {
   "codemirror_mode": {
    "name": "ipython",
    "version": 3
   },
   "file_extension": ".py",
   "mimetype": "text/x-python",
   "name": "python",
   "nbconvert_exporter": "python",
   "pygments_lexer": "ipython3",
   "version": "3.11.8"
  }
 },
 "nbformat": 4,
 "nbformat_minor": 5
}
