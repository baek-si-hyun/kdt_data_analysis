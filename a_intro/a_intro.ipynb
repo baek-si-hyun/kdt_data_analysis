{
 "cells": [
  {
   "cell_type": "markdown",
   "id": "4622127e-25cc-4ac0-b19e-dfb121201a75",
   "metadata": {},
   "source": [
    "### Data Analysis\n",
    "- 원시(원본 그대로) 데이터를 분석하여 인사이트(가시성 증가 및 깊은 이해)로 변환하는 작업이다.\n",
    "- 문제를 해결하기 위해 데이터를 사용해서 흐름 및 방향을 찾는 기술이다.\n",
    "- 데이터 분석을 통해 비지니스 프로세스를 구성하고, 의사 결정을 개선하며, 비지니스 성장을 증진할 수 있다.\n",
    "\n",
    "<img src=\"./images/architecture.png\" width=\"600px\" style=\"margin-left: 10\n",
    "**<sub>ETL은 Extract(추출), Transform(변환), Load(적재)를 의미한다. 여기저기 흩어진 데이터를 하나로 모으기 위한 결합 과정이다.</sub>px;\">"
   ]
  },
  {
   "cell_type": "markdown",
   "id": "9281ace2-5876-4a36-84ff-93446ad32465",
   "metadata": {},
   "source": [
    "### 기초 통계 (Basic statistics)\n",
    "📌 통계는 아직 발생하지 않은 일을 예측하기 위해 사용한다.\n",
    "- 통계학을 공부하는데 있어 필요한 기본 개념이고,  \n",
    "  수량적인 비교를 기포로 많은 사실을 관찰하고 처리하는 방법을 연구하는 학문이다.\n",
    "- 불균형 데이터를 대상으로 규칙성과 불규칙성을 발견한 뒤 실생활에 적용할 수있다.\n",
    "<img src=\"./images/statistics01.png\" style=\"margin-top: 20px\"/>"
   ]
  },
  {
   "cell_type": "markdown",
   "id": "520d23f4-6fb9-44c9-a133-743f499d8745",
   "metadata": {},
   "source": [
    "#### 변량 (Variable)\n",
    "- 자료의 수치를 변량이라고 하며, 이는 데이터의 값을 의미한다."
   ]
  },
  {
   "cell_type": "code",
   "execution_count": 59,
   "id": "f23ce9ea-13dd-418c-99eb-433a41b8d115",
   "metadata": {},
   "outputs": [
    {
     "data": {
      "text/html": [
       "<div>\n",
       "<style scoped>\n",
       "    .dataframe tbody tr th:only-of-type {\n",
       "        vertical-align: middle;\n",
       "    }\n",
       "\n",
       "    .dataframe tbody tr th {\n",
       "        vertical-align: top;\n",
       "    }\n",
       "\n",
       "    .dataframe thead th {\n",
       "        text-align: right;\n",
       "    }\n",
       "</style>\n",
       "<table border=\"1\" class=\"dataframe\">\n",
       "  <thead>\n",
       "    <tr style=\"text-align: right;\">\n",
       "      <th></th>\n",
       "      <th>서울</th>\n",
       "      <th>경기</th>\n",
       "      <th>인천</th>\n",
       "      <th>광주</th>\n",
       "      <th>대구</th>\n",
       "      <th>부산</th>\n",
       "      <th>전주</th>\n",
       "      <th>강릉</th>\n",
       "      <th>울산</th>\n",
       "      <th>수원</th>\n",
       "    </tr>\n",
       "  </thead>\n",
       "  <tbody>\n",
       "    <tr>\n",
       "      <th>0</th>\n",
       "      <td>174</td>\n",
       "      <td>188</td>\n",
       "      <td>162</td>\n",
       "      <td>157</td>\n",
       "      <td>181</td>\n",
       "      <td>170</td>\n",
       "      <td>173</td>\n",
       "      <td>188</td>\n",
       "      <td>163</td>\n",
       "      <td>189</td>\n",
       "    </tr>\n",
       "    <tr>\n",
       "      <th>1</th>\n",
       "      <td>160</td>\n",
       "      <td>187</td>\n",
       "      <td>182</td>\n",
       "      <td>162</td>\n",
       "      <td>154</td>\n",
       "      <td>163</td>\n",
       "      <td>155</td>\n",
       "      <td>155</td>\n",
       "      <td>178</td>\n",
       "      <td>183</td>\n",
       "    </tr>\n",
       "    <tr>\n",
       "      <th>2</th>\n",
       "      <td>160</td>\n",
       "      <td>161</td>\n",
       "      <td>183</td>\n",
       "      <td>169</td>\n",
       "      <td>169</td>\n",
       "      <td>178</td>\n",
       "      <td>169</td>\n",
       "      <td>158</td>\n",
       "      <td>159</td>\n",
       "      <td>173</td>\n",
       "    </tr>\n",
       "    <tr>\n",
       "      <th>3</th>\n",
       "      <td>169</td>\n",
       "      <td>163</td>\n",
       "      <td>170</td>\n",
       "      <td>181</td>\n",
       "      <td>179</td>\n",
       "      <td>163</td>\n",
       "      <td>175</td>\n",
       "      <td>177</td>\n",
       "      <td>155</td>\n",
       "      <td>159</td>\n",
       "    </tr>\n",
       "    <tr>\n",
       "      <th>4</th>\n",
       "      <td>161</td>\n",
       "      <td>175</td>\n",
       "      <td>170</td>\n",
       "      <td>160</td>\n",
       "      <td>180</td>\n",
       "      <td>155</td>\n",
       "      <td>187</td>\n",
       "      <td>163</td>\n",
       "      <td>166</td>\n",
       "      <td>165</td>\n",
       "    </tr>\n",
       "    <tr>\n",
       "      <th>5</th>\n",
       "      <td>163</td>\n",
       "      <td>177</td>\n",
       "      <td>164</td>\n",
       "      <td>178</td>\n",
       "      <td>188</td>\n",
       "      <td>179</td>\n",
       "      <td>171</td>\n",
       "      <td>158</td>\n",
       "      <td>184</td>\n",
       "      <td>185</td>\n",
       "    </tr>\n",
       "    <tr>\n",
       "      <th>6</th>\n",
       "      <td>155</td>\n",
       "      <td>159</td>\n",
       "      <td>158</td>\n",
       "      <td>170</td>\n",
       "      <td>162</td>\n",
       "      <td>180</td>\n",
       "      <td>175</td>\n",
       "      <td>167</td>\n",
       "      <td>171</td>\n",
       "      <td>182</td>\n",
       "    </tr>\n",
       "    <tr>\n",
       "      <th>7</th>\n",
       "      <td>156</td>\n",
       "      <td>185</td>\n",
       "      <td>154</td>\n",
       "      <td>165</td>\n",
       "      <td>165</td>\n",
       "      <td>188</td>\n",
       "      <td>151</td>\n",
       "      <td>181</td>\n",
       "      <td>167</td>\n",
       "      <td>153</td>\n",
       "    </tr>\n",
       "    <tr>\n",
       "      <th>8</th>\n",
       "      <td>162</td>\n",
       "      <td>154</td>\n",
       "      <td>171</td>\n",
       "      <td>155</td>\n",
       "      <td>189</td>\n",
       "      <td>154</td>\n",
       "      <td>188</td>\n",
       "      <td>162</td>\n",
       "      <td>152</td>\n",
       "      <td>173</td>\n",
       "    </tr>\n",
       "    <tr>\n",
       "      <th>9</th>\n",
       "      <td>153</td>\n",
       "      <td>176</td>\n",
       "      <td>184</td>\n",
       "      <td>158</td>\n",
       "      <td>185</td>\n",
       "      <td>161</td>\n",
       "      <td>156</td>\n",
       "      <td>171</td>\n",
       "      <td>155</td>\n",
       "      <td>151</td>\n",
       "    </tr>\n",
       "  </tbody>\n",
       "</table>\n",
       "</div>"
      ],
      "text/plain": [
       "    서울   경기   인천   광주   대구   부산   전주   강릉   울산   수원\n",
       "0  174  188  162  157  181  170  173  188  163  189\n",
       "1  160  187  182  162  154  163  155  155  178  183\n",
       "2  160  161  183  169  169  178  169  158  159  173\n",
       "3  169  163  170  181  179  163  175  177  155  159\n",
       "4  161  175  170  160  180  155  187  163  166  165\n",
       "5  163  177  164  178  188  179  171  158  184  185\n",
       "6  155  159  158  170  162  180  175  167  171  182\n",
       "7  156  185  154  165  165  188  151  181  167  153\n",
       "8  162  154  171  155  189  154  188  162  152  173\n",
       "9  153  176  184  158  185  161  156  171  155  151"
      ]
     },
     "metadata": {},
     "output_type": "display_data"
    }
   ],
   "source": [
    "# 지역 별 총 100명의 키\n",
    "import pandas as pd\n",
    "import numpy as np\n",
    "\n",
    "\n",
    "# DataFrame은 데이터를 표형식으로 구조화 해준다.\n",
    "# 데이터를 시각화할때 사용할수 있다.\n",
    "df = pd.DataFrame(np.random.randint(151, 190, size=(10, 10)), \\\n",
    "             columns=\"서울,경기,인천,광주,대구,부산,전주,강릉,울산,수원\".split(\",\"))\n",
    "display(df)"
   ]
  },
  {
   "cell_type": "code",
   "execution_count": 60,
   "id": "01f58622-6c84-4d1c-a456-c62ce64c3c53",
   "metadata": {},
   "outputs": [
    {
     "name": "stdout",
     "output_type": "stream",
     "text": [
      "478 µs ± 217 µs per loop (mean ± std. dev. of 10 runs, 100 loops each)\n"
     ]
    }
   ],
   "source": [
    "%%timeit -n 100 -r 10\n",
    "\n",
    "import pandas as pd\n",
    "import random\n",
    "\n",
    "df = pd.DataFrame([[random.randrange(151,190) for _ in range(10)] for _ in range(10)], \\\n",
    "             columns=\"서울,경기,인천,광주,대구,부산,전주,강릉,울산,수원\".split(\",\"))\n"
   ]
  },
  {
   "cell_type": "code",
   "execution_count": 61,
   "id": "4942bdf2-2cad-4586-9b9a-3d844d1a15d2",
   "metadata": {},
   "outputs": [
    {
     "name": "stdout",
     "output_type": "stream",
     "text": [
      "157 µs ± 56.3 µs per loop (mean ± std. dev. of 10 runs, 100 loops each)\n"
     ]
    }
   ],
   "source": [
    "%%timeit -n 100 -r 10\n",
    "\n",
    "import pandas as pd\n",
    "import numpy as np\n",
    "\n",
    "df = pd.DataFrame(np.random.randint(151, 190, size=(10, 10)), \\\n",
    "                  columns=\"서울,경기,인천,광주,대구,부산,전주,강릉,울산,수원\".split(\",\"))"
   ]
  },
  {
   "cell_type": "markdown",
   "id": "bd4fb0f9-de72-4e74-901f-0573392b3d67",
   "metadata": {},
   "source": [
    "#### 계급 (Class)\n",
    "- 변량을 일정 간격으로 나눈 구간을 의미한다.\n",
    "- 변량의 최소값과 최대값을 잘 고려해서 계급을 정해야한다.\n",
    "- 예를 들어, 150 ~ 160 계급이 있을 경우, 160까지 속한다. 즉 151~ 160까지이다."
   ]
  },
  {
   "cell_type": "code",
   "execution_count": 62,
   "id": "a7f7dbb5-59db-4b56-999d-26c9004dd0b8",
   "metadata": {},
   "outputs": [
    {
     "data": {
      "text/html": [
       "<div>\n",
       "<style scoped>\n",
       "    .dataframe tbody tr th:only-of-type {\n",
       "        vertical-align: middle;\n",
       "    }\n",
       "\n",
       "    .dataframe tbody tr th {\n",
       "        vertical-align: top;\n",
       "    }\n",
       "\n",
       "    .dataframe thead th {\n",
       "        text-align: right;\n",
       "    }\n",
       "</style>\n",
       "<table border=\"1\" class=\"dataframe\">\n",
       "  <thead>\n",
       "    <tr style=\"text-align: right;\">\n",
       "      <th></th>\n",
       "      <th>서울</th>\n",
       "      <th>계급</th>\n",
       "    </tr>\n",
       "  </thead>\n",
       "  <tbody>\n",
       "    <tr>\n",
       "      <th>0</th>\n",
       "      <td>174</td>\n",
       "      <td>(170, 180]</td>\n",
       "    </tr>\n",
       "    <tr>\n",
       "      <th>1</th>\n",
       "      <td>160</td>\n",
       "      <td>(150, 160]</td>\n",
       "    </tr>\n",
       "    <tr>\n",
       "      <th>2</th>\n",
       "      <td>160</td>\n",
       "      <td>(150, 160]</td>\n",
       "    </tr>\n",
       "    <tr>\n",
       "      <th>3</th>\n",
       "      <td>169</td>\n",
       "      <td>(160, 170]</td>\n",
       "    </tr>\n",
       "    <tr>\n",
       "      <th>4</th>\n",
       "      <td>161</td>\n",
       "      <td>(160, 170]</td>\n",
       "    </tr>\n",
       "    <tr>\n",
       "      <th>5</th>\n",
       "      <td>163</td>\n",
       "      <td>(160, 170]</td>\n",
       "    </tr>\n",
       "    <tr>\n",
       "      <th>6</th>\n",
       "      <td>155</td>\n",
       "      <td>(150, 160]</td>\n",
       "    </tr>\n",
       "    <tr>\n",
       "      <th>7</th>\n",
       "      <td>156</td>\n",
       "      <td>(150, 160]</td>\n",
       "    </tr>\n",
       "    <tr>\n",
       "      <th>8</th>\n",
       "      <td>162</td>\n",
       "      <td>(160, 170]</td>\n",
       "    </tr>\n",
       "    <tr>\n",
       "      <th>9</th>\n",
       "      <td>153</td>\n",
       "      <td>(150, 160]</td>\n",
       "    </tr>\n",
       "  </tbody>\n",
       "</table>\n",
       "</div>"
      ],
      "text/plain": [
       "    서울          계급\n",
       "0  174  (170, 180]\n",
       "1  160  (150, 160]\n",
       "2  160  (150, 160]\n",
       "3  169  (160, 170]\n",
       "4  161  (160, 170]\n",
       "5  163  (160, 170]\n",
       "6  155  (150, 160]\n",
       "7  156  (150, 160]\n",
       "8  162  (160, 170]\n",
       "9  153  (150, 160]"
      ]
     },
     "execution_count": 62,
     "metadata": {},
     "output_type": "execute_result"
    }
   ],
   "source": [
    "df_seoul = df['서울']\n",
    "# pd.cut()은 연속형 데이터를 여러구간으로 나눌때 사용한다.\n",
    "# bins는 그룹화할 구간을 정해줄수 있다\n",
    "# 150 이상 160 미만\n",
    "# 160 이상 170 미만\n",
    "# 170 이상 180 미만\n",
    "# 180 이상 190 미만\n",
    "df_class = pd.cut(df_seoul, bins=[150, 160, 170, 180, 190])\n",
    "df_seoul_class = pd.DataFrame({'서울': df_seoul, '계급': df_class})\n",
    "df_seoul_class"
   ]
  },
  {
   "cell_type": "markdown",
   "id": "1c8202e4-be64-481a-8f78-90200336df6c",
   "metadata": {},
   "source": [
    "#### 도수 (Frequency)\n",
    "- 각 계급에 속하는 변량의 개수를 의미한다."
   ]
  },
  {
   "cell_type": "code",
   "execution_count": 63,
   "id": "02b7777f-0732-4684-bbf4-f145320f46b1",
   "metadata": {},
   "outputs": [
    {
     "data": {
      "text/html": [
       "<div>\n",
       "<style scoped>\n",
       "    .dataframe tbody tr th:only-of-type {\n",
       "        vertical-align: middle;\n",
       "    }\n",
       "\n",
       "    .dataframe tbody tr th {\n",
       "        vertical-align: top;\n",
       "    }\n",
       "\n",
       "    .dataframe thead th {\n",
       "        text-align: right;\n",
       "    }\n",
       "</style>\n",
       "<table border=\"1\" class=\"dataframe\">\n",
       "  <thead>\n",
       "    <tr style=\"text-align: right;\">\n",
       "      <th></th>\n",
       "      <th>서울</th>\n",
       "    </tr>\n",
       "    <tr>\n",
       "      <th>계급</th>\n",
       "      <th></th>\n",
       "    </tr>\n",
       "  </thead>\n",
       "  <tbody>\n",
       "    <tr>\n",
       "      <th>(150, 160]</th>\n",
       "      <td>5</td>\n",
       "    </tr>\n",
       "    <tr>\n",
       "      <th>(160, 170]</th>\n",
       "      <td>4</td>\n",
       "    </tr>\n",
       "    <tr>\n",
       "      <th>(170, 180]</th>\n",
       "      <td>1</td>\n",
       "    </tr>\n",
       "  </tbody>\n",
       "</table>\n",
       "</div>"
      ],
      "text/plain": [
       "            서울\n",
       "계급            \n",
       "(150, 160]   5\n",
       "(160, 170]   4\n",
       "(170, 180]   1"
      ]
     },
     "execution_count": 63,
     "metadata": {},
     "output_type": "execute_result"
    }
   ],
   "source": [
    "df_seoul_class.groupby('계급', observed=True).count()"
   ]
  },
  {
   "cell_type": "markdown",
   "id": "23a67850-5ca8-4d82-9c36-b4b27952b71e",
   "metadata": {},
   "source": [
    "#### 상대 도수 (Relative frequency)\n",
    "- 각 계급에 속하는 변량의 비율을 의미한다."
   ]
  },
  {
   "cell_type": "code",
   "execution_count": 64,
   "id": "78328bc3-eb76-4120-86f4-be2caad1e29a",
   "metadata": {},
   "outputs": [
    {
     "data": {
      "text/html": [
       "<div>\n",
       "<style scoped>\n",
       "    .dataframe tbody tr th:only-of-type {\n",
       "        vertical-align: middle;\n",
       "    }\n",
       "\n",
       "    .dataframe tbody tr th {\n",
       "        vertical-align: top;\n",
       "    }\n",
       "\n",
       "    .dataframe thead th {\n",
       "        text-align: right;\n",
       "    }\n",
       "</style>\n",
       "<table border=\"1\" class=\"dataframe\">\n",
       "  <thead>\n",
       "    <tr style=\"text-align: right;\">\n",
       "      <th></th>\n",
       "      <th>서울</th>\n",
       "    </tr>\n",
       "    <tr>\n",
       "      <th>계급</th>\n",
       "      <th></th>\n",
       "    </tr>\n",
       "  </thead>\n",
       "  <tbody>\n",
       "    <tr>\n",
       "      <th>(150, 160]</th>\n",
       "      <td>0.05</td>\n",
       "    </tr>\n",
       "    <tr>\n",
       "      <th>(160, 170]</th>\n",
       "      <td>0.04</td>\n",
       "    </tr>\n",
       "    <tr>\n",
       "      <th>(170, 180]</th>\n",
       "      <td>0.01</td>\n",
       "    </tr>\n",
       "    <tr>\n",
       "      <th>(180, 190]</th>\n",
       "      <td>0.00</td>\n",
       "    </tr>\n",
       "  </tbody>\n",
       "</table>\n",
       "</div>"
      ],
      "text/plain": [
       "              서울\n",
       "계급              \n",
       "(150, 160]  0.05\n",
       "(160, 170]  0.04\n",
       "(170, 180]  0.01\n",
       "(180, 190]  0.00"
      ]
     },
     "execution_count": 64,
     "metadata": {},
     "output_type": "execute_result"
    }
   ],
   "source": [
    "# apply()는 데이터프레임에서 각 요소에 함수를 적용할때 사용한다.\n",
    "# 데이터프레임은 2차원 데이터 구조를 말한다.\n",
    "df_seoul_class.groupby('계급', observed=False).count().apply(lambda x : x / 100)"
   ]
  },
  {
   "cell_type": "markdown",
   "id": "688fadd5-79d7-42a0-adea-ca0935d10ae8",
   "metadata": {},
   "source": [
    "#### 도수 분포표(Frequency table)\n",
    "- 주어진 자료를 계급별로 나눈 뒤 각 계급에 속하는 도수 및 상대 도수를 조사한 표이다.\n",
    "- 구간별 분포를 한번에 알아보기 좋지만 계급별 각 변량의 정확한 값이 생략되어 있다."
   ]
  },
  {
   "cell_type": "code",
   "execution_count": 65,
   "id": "ac7f4171-dfb9-47a4-b2fd-6e5d761f63ac",
   "metadata": {},
   "outputs": [
    {
     "data": {
      "text/html": [
       "<div>\n",
       "<style scoped>\n",
       "    .dataframe tbody tr th:only-of-type {\n",
       "        vertical-align: middle;\n",
       "    }\n",
       "\n",
       "    .dataframe tbody tr th {\n",
       "        vertical-align: top;\n",
       "    }\n",
       "\n",
       "    .dataframe thead th {\n",
       "        text-align: right;\n",
       "    }\n",
       "</style>\n",
       "<table border=\"1\" class=\"dataframe\">\n",
       "  <thead>\n",
       "    <tr style=\"text-align: right;\">\n",
       "      <th></th>\n",
       "      <th>도수</th>\n",
       "      <th>상대도수</th>\n",
       "    </tr>\n",
       "    <tr>\n",
       "      <th>계급</th>\n",
       "      <th></th>\n",
       "      <th></th>\n",
       "    </tr>\n",
       "  </thead>\n",
       "  <tbody>\n",
       "    <tr>\n",
       "      <th>(150, 160]</th>\n",
       "      <td>5</td>\n",
       "      <td>0.05</td>\n",
       "    </tr>\n",
       "    <tr>\n",
       "      <th>(160, 170]</th>\n",
       "      <td>4</td>\n",
       "      <td>0.04</td>\n",
       "    </tr>\n",
       "    <tr>\n",
       "      <th>(170, 180]</th>\n",
       "      <td>1</td>\n",
       "      <td>0.01</td>\n",
       "    </tr>\n",
       "    <tr>\n",
       "      <th>(180, 190]</th>\n",
       "      <td>0</td>\n",
       "      <td>0.00</td>\n",
       "    </tr>\n",
       "  </tbody>\n",
       "</table>\n",
       "</div>"
      ],
      "text/plain": [
       "            도수  상대도수\n",
       "계급                  \n",
       "(150, 160]   5  0.05\n",
       "(160, 170]   4  0.04\n",
       "(170, 180]   1  0.01\n",
       "(180, 190]   0  0.00"
      ]
     },
     "metadata": {},
     "output_type": "display_data"
    }
   ],
   "source": [
    "freq_df = pd.DataFrame({\"도수\": df_seoul_class.groupby('계급', observed=False).count()[\"서울\"], \\\n",
    "             \"상대도수\": df_seoul_class.groupby('계급', observed=False).count().apply(lambda x: x/100)[\"서울\"]})\n",
    "display(freq_df)"
   ]
  },
  {
   "cell_type": "code",
   "execution_count": 66,
   "id": "2f527c65-99ef-4e80-b367-bf956a6ddb4e",
   "metadata": {},
   "outputs": [
    {
     "data": {
      "text/html": [
       "<div>\n",
       "<style scoped>\n",
       "    .dataframe tbody tr th:only-of-type {\n",
       "        vertical-align: middle;\n",
       "    }\n",
       "\n",
       "    .dataframe tbody tr th {\n",
       "        vertical-align: top;\n",
       "    }\n",
       "\n",
       "    .dataframe thead th {\n",
       "        text-align: right;\n",
       "    }\n",
       "</style>\n",
       "<table border=\"1\" class=\"dataframe\">\n",
       "  <thead>\n",
       "    <tr style=\"text-align: right;\">\n",
       "      <th></th>\n",
       "      <th>계급</th>\n",
       "      <th>도수</th>\n",
       "      <th>상대도수</th>\n",
       "    </tr>\n",
       "  </thead>\n",
       "  <tbody>\n",
       "    <tr>\n",
       "      <th>0</th>\n",
       "      <td>(150, 160]</td>\n",
       "      <td>5</td>\n",
       "      <td>0.05</td>\n",
       "    </tr>\n",
       "    <tr>\n",
       "      <th>1</th>\n",
       "      <td>(160, 170]</td>\n",
       "      <td>4</td>\n",
       "      <td>0.04</td>\n",
       "    </tr>\n",
       "    <tr>\n",
       "      <th>2</th>\n",
       "      <td>(170, 180]</td>\n",
       "      <td>1</td>\n",
       "      <td>0.01</td>\n",
       "    </tr>\n",
       "    <tr>\n",
       "      <th>3</th>\n",
       "      <td>(180, 190]</td>\n",
       "      <td>0</td>\n",
       "      <td>0.00</td>\n",
       "    </tr>\n",
       "  </tbody>\n",
       "</table>\n",
       "</div>"
      ],
      "text/plain": [
       "           계급  도수  상대도수\n",
       "0  (150, 160]   5  0.05\n",
       "1  (160, 170]   4  0.04\n",
       "2  (170, 180]   1  0.01\n",
       "3  (180, 190]   0  0.00"
      ]
     },
     "execution_count": 66,
     "metadata": {},
     "output_type": "execute_result"
    }
   ],
   "source": [
    "# reset_index()는 데이터프레임에 인덱스를 부여하고 싶을 때 사용한다.\n",
    "# drop=False를 설정하면 기존의 인덱스가 열로 추가되지만, drop=True로 설정하면 기존의 인덱스가 삭제된다.\n",
    "# 여기서 기존의 인덱스는 계급\n",
    "freq_df.reset_index(drop=False)"
   ]
  },
  {
   "cell_type": "markdown",
   "id": "f75e4d70-56cc-4028-ae52-93184e86d2cf",
   "metadata": {},
   "source": [
    "#### 히스토그램 (Histogram)\n",
    "- 도수 분포표를 시각화한 그래프이다."
   ]
  },
  {
   "cell_type": "code",
   "execution_count": 67,
   "id": "2eaabcb7-5ee2-4cf1-b1dc-4a8691f0e6c4",
   "metadata": {},
   "outputs": [
    {
     "data": {
      "text/plain": [
       "<Axes: >"
      ]
     },
     "execution_count": 67,
     "metadata": {},
     "output_type": "execute_result"
    },
    {
     "data": {
      "image/png": "[encoded data removed]",
      "text/plain": [
       "<Figure size 640x480 with 1 Axes>"
      ]
     },
     "metadata": {},
     "output_type": "display_data"
    }
   ],
   "source": [
    "# matplotlib.pyplot는 데이터를 시각화하기 위해 사용\n",
    "import matplotlib.pyplot as plt\n",
    "import numpy as np\n",
    "\n",
    "# hist는 히스토그램을 그리기 위해 사용한다.\n",
    "# bins는 몇개의 구간을 나눌지 설정할 수 있다.\n",
    "df_seoul_class[\"서울\"].hist(bins=4)"
   ]
  },
  {
   "cell_type": "markdown",
   "id": "51049cda-e8d2-42eb-93bd-07471b64e841",
   "metadata": {},
   "source": [
    "#### 산술평균 (Mean)\n",
    "- 변량의 합을 변량의 수로 나눈 값을 의미한다.\n",
    "\n",
    "<img src=\"./images/mean.png\" style=\"margin-left: 20px\"/>"
   ]
  },
  {
   "cell_type": "code",
   "execution_count": 68,
   "id": "bd0055f7-9f27-4246-a8de-95d36cec58e7",
   "metadata": {},
   "outputs": [
    {
     "data": {
      "text/html": [
       "<div>\n",
       "<style scoped>\n",
       "    .dataframe tbody tr th:only-of-type {\n",
       "        vertical-align: middle;\n",
       "    }\n",
       "\n",
       "    .dataframe tbody tr th {\n",
       "        vertical-align: top;\n",
       "    }\n",
       "\n",
       "    .dataframe thead th {\n",
       "        text-align: right;\n",
       "    }\n",
       "</style>\n",
       "<table border=\"1\" class=\"dataframe\">\n",
       "  <thead>\n",
       "    <tr style=\"text-align: right;\">\n",
       "      <th></th>\n",
       "      <th>평균 키</th>\n",
       "    </tr>\n",
       "  </thead>\n",
       "  <tbody>\n",
       "    <tr>\n",
       "      <th>서울</th>\n",
       "      <td>161.3</td>\n",
       "    </tr>\n",
       "    <tr>\n",
       "      <th>경기</th>\n",
       "      <td>172.5</td>\n",
       "    </tr>\n",
       "    <tr>\n",
       "      <th>인천</th>\n",
       "      <td>169.8</td>\n",
       "    </tr>\n",
       "    <tr>\n",
       "      <th>광주</th>\n",
       "      <td>165.5</td>\n",
       "    </tr>\n",
       "    <tr>\n",
       "      <th>대구</th>\n",
       "      <td>175.2</td>\n",
       "    </tr>\n",
       "    <tr>\n",
       "      <th>부산</th>\n",
       "      <td>169.1</td>\n",
       "    </tr>\n",
       "    <tr>\n",
       "      <th>전주</th>\n",
       "      <td>170.0</td>\n",
       "    </tr>\n",
       "    <tr>\n",
       "      <th>강릉</th>\n",
       "      <td>168.0</td>\n",
       "    </tr>\n",
       "    <tr>\n",
       "      <th>울산</th>\n",
       "      <td>165.0</td>\n",
       "    </tr>\n",
       "    <tr>\n",
       "      <th>수원</th>\n",
       "      <td>171.3</td>\n",
       "    </tr>\n",
       "  </tbody>\n",
       "</table>\n",
       "</div>"
      ],
      "text/plain": [
       "     평균 키\n",
       "서울  161.3\n",
       "경기  172.5\n",
       "인천  169.8\n",
       "광주  165.5\n",
       "대구  175.2\n",
       "부산  169.1\n",
       "전주  170.0\n",
       "강릉  168.0\n",
       "울산  165.0\n",
       "수원  171.3"
      ]
     },
     "execution_count": 68,
     "metadata": {},
     "output_type": "execute_result"
    }
   ],
   "source": [
    "# mean은 평균을 구하는데 사용한다.\n",
    "# axis=0이면 열을 기준으로 axis=1이면 행을 기준으로 평균을 구한다.\n",
    "# to_frame 은 데이터 프레임으로 변환할때 사용한다.\n",
    "df.mean(axis=0).to_frame(name='평균 키')"
   ]
  },
  {
   "cell_type": "markdown",
   "id": "abe8be48-f006-464e-9f6e-18d897b0941a",
   "metadata": {},
   "source": [
    "#### 편차 (Deviation)\n",
    "- 변량에서 평균을 뺀 값이다.\n",
    "- 각 변량의 편차를 구한뒤 모두 합하면 0이 되기 때문에 편차의 평균을 구할 수 없다."
   ]
  },
  {
   "cell_type": "code",
   "execution_count": 69,
   "id": "baae9230-4b84-4ccf-8c47-7e106e45f4ae",
   "metadata": {},
   "outputs": [
    {
     "data": {
      "text/html": [
       "<div>\n",
       "<style scoped>\n",
       "    .dataframe tbody tr th:only-of-type {\n",
       "        vertical-align: middle;\n",
       "    }\n",
       "\n",
       "    .dataframe tbody tr th {\n",
       "        vertical-align: top;\n",
       "    }\n",
       "\n",
       "    .dataframe thead th {\n",
       "        text-align: right;\n",
       "    }\n",
       "</style>\n",
       "<table border=\"1\" class=\"dataframe\">\n",
       "  <thead>\n",
       "    <tr style=\"text-align: right;\">\n",
       "      <th></th>\n",
       "      <th>경기</th>\n",
       "      <th>편차</th>\n",
       "    </tr>\n",
       "  </thead>\n",
       "  <tbody>\n",
       "    <tr>\n",
       "      <th>0</th>\n",
       "      <td>188</td>\n",
       "      <td>15.5</td>\n",
       "    </tr>\n",
       "    <tr>\n",
       "      <th>1</th>\n",
       "      <td>187</td>\n",
       "      <td>14.5</td>\n",
       "    </tr>\n",
       "    <tr>\n",
       "      <th>2</th>\n",
       "      <td>161</td>\n",
       "      <td>-11.5</td>\n",
       "    </tr>\n",
       "    <tr>\n",
       "      <th>3</th>\n",
       "      <td>163</td>\n",
       "      <td>-9.5</td>\n",
       "    </tr>\n",
       "    <tr>\n",
       "      <th>4</th>\n",
       "      <td>175</td>\n",
       "      <td>2.5</td>\n",
       "    </tr>\n",
       "    <tr>\n",
       "      <th>5</th>\n",
       "      <td>177</td>\n",
       "      <td>4.5</td>\n",
       "    </tr>\n",
       "    <tr>\n",
       "      <th>6</th>\n",
       "      <td>159</td>\n",
       "      <td>-13.5</td>\n",
       "    </tr>\n",
       "    <tr>\n",
       "      <th>7</th>\n",
       "      <td>185</td>\n",
       "      <td>12.5</td>\n",
       "    </tr>\n",
       "    <tr>\n",
       "      <th>8</th>\n",
       "      <td>154</td>\n",
       "      <td>-18.5</td>\n",
       "    </tr>\n",
       "    <tr>\n",
       "      <th>9</th>\n",
       "      <td>176</td>\n",
       "      <td>3.5</td>\n",
       "    </tr>\n",
       "  </tbody>\n",
       "</table>\n",
       "</div>"
      ],
      "text/plain": [
       "    경기    편차\n",
       "0  188  15.5\n",
       "1  187  14.5\n",
       "2  161 -11.5\n",
       "3  163  -9.5\n",
       "4  175   2.5\n",
       "5  177   4.5\n",
       "6  159 -13.5\n",
       "7  185  12.5\n",
       "8  154 -18.5\n",
       "9  176   3.5"
      ]
     },
     "metadata": {},
     "output_type": "display_data"
    },
    {
     "name": "stdout",
     "output_type": "stream",
     "text": [
      "0.0\n",
      "편차의 합: 0\n"
     ]
    }
   ],
   "source": [
    "gyeonggi_df = df['경기'].to_frame()\n",
    "# mean()에 값을 전달하지 않으면 열과 행 둘다 평균을 구한다.\n",
    "gyeonggi_df['편차'] = gyeonggi_df['경기'].apply(lambda x: x - gyeonggi_df.mean())\n",
    "display(gyeonggi_df)\n",
    "\n",
    "# e가 붙어있는 수는 엄청 작은 수나 엄청 큰 수를 간략화 해주는 기능\n",
    "# 이때 e는 자연 상수가 아니며, 과학적 기수법 e라고 한다.\n",
    "# (a)e(b) = a * 10^b\n",
    "\n",
    "print(gyeonggi_df['편차'].sum())\n",
    "\n",
    "# 시룻의 오류를 원래 값으로 변경하고자 반올림(round) 사용\n",
    "total = round(gyeonggi_df['편차'].sum())\n",
    "print(f'편차의 합: {total}')"
   ]
  },
  {
   "cell_type": "code",
   "execution_count": 70,
   "id": "c9d4f08d-47c4-4ca5-8186-e0d3b834144e",
   "metadata": {},
   "outputs": [
    {
     "data": {
      "text/html": [
       "<div>\n",
       "<style scoped>\n",
       "    .dataframe tbody tr th:only-of-type {\n",
       "        vertical-align: middle;\n",
       "    }\n",
       "\n",
       "    .dataframe tbody tr th {\n",
       "        vertical-align: top;\n",
       "    }\n",
       "\n",
       "    .dataframe thead th {\n",
       "        text-align: right;\n",
       "    }\n",
       "</style>\n",
       "<table border=\"1\" class=\"dataframe\">\n",
       "  <thead>\n",
       "    <tr style=\"text-align: right;\">\n",
       "      <th></th>\n",
       "      <th>서울</th>\n",
       "      <th>경기</th>\n",
       "      <th>인천</th>\n",
       "      <th>광주</th>\n",
       "      <th>대구</th>\n",
       "      <th>부산</th>\n",
       "      <th>전주</th>\n",
       "      <th>강릉</th>\n",
       "      <th>울산</th>\n",
       "      <th>수원</th>\n",
       "    </tr>\n",
       "  </thead>\n",
       "  <tbody>\n",
       "    <tr>\n",
       "      <th>count</th>\n",
       "      <td>10.000000</td>\n",
       "      <td>10.000000</td>\n",
       "      <td>10.000000</td>\n",
       "      <td>10.000000</td>\n",
       "      <td>10.000000</td>\n",
       "      <td>10.000000</td>\n",
       "      <td>10.000000</td>\n",
       "      <td>10.000000</td>\n",
       "      <td>10.000000</td>\n",
       "      <td>10.000000</td>\n",
       "    </tr>\n",
       "    <tr>\n",
       "      <th>mean</th>\n",
       "      <td>161.300000</td>\n",
       "      <td>172.500000</td>\n",
       "      <td>169.800000</td>\n",
       "      <td>165.500000</td>\n",
       "      <td>175.200000</td>\n",
       "      <td>169.100000</td>\n",
       "      <td>170.000000</td>\n",
       "      <td>168.000000</td>\n",
       "      <td>165.000000</td>\n",
       "      <td>171.300000</td>\n",
       "    </tr>\n",
       "    <tr>\n",
       "      <th>std</th>\n",
       "      <td>6.360468</td>\n",
       "      <td>12.438739</td>\n",
       "      <td>10.591401</td>\n",
       "      <td>8.885069</td>\n",
       "      <td>11.961048</td>\n",
       "      <td>11.647126</td>\n",
       "      <td>12.719189</td>\n",
       "      <td>11.005049</td>\n",
       "      <td>10.434984</td>\n",
       "      <td>13.727912</td>\n",
       "    </tr>\n",
       "    <tr>\n",
       "      <th>min</th>\n",
       "      <td>153.000000</td>\n",
       "      <td>154.000000</td>\n",
       "      <td>154.000000</td>\n",
       "      <td>155.000000</td>\n",
       "      <td>154.000000</td>\n",
       "      <td>154.000000</td>\n",
       "      <td>151.000000</td>\n",
       "      <td>155.000000</td>\n",
       "      <td>152.000000</td>\n",
       "      <td>151.000000</td>\n",
       "    </tr>\n",
       "    <tr>\n",
       "      <th>25%</th>\n",
       "      <td>157.000000</td>\n",
       "      <td>161.500000</td>\n",
       "      <td>162.500000</td>\n",
       "      <td>158.500000</td>\n",
       "      <td>166.000000</td>\n",
       "      <td>161.500000</td>\n",
       "      <td>159.250000</td>\n",
       "      <td>159.000000</td>\n",
       "      <td>156.000000</td>\n",
       "      <td>160.500000</td>\n",
       "    </tr>\n",
       "    <tr>\n",
       "      <th>50%</th>\n",
       "      <td>160.500000</td>\n",
       "      <td>175.500000</td>\n",
       "      <td>170.000000</td>\n",
       "      <td>163.500000</td>\n",
       "      <td>179.500000</td>\n",
       "      <td>166.500000</td>\n",
       "      <td>172.000000</td>\n",
       "      <td>165.000000</td>\n",
       "      <td>164.500000</td>\n",
       "      <td>173.000000</td>\n",
       "    </tr>\n",
       "    <tr>\n",
       "      <th>75%</th>\n",
       "      <td>162.750000</td>\n",
       "      <td>183.000000</td>\n",
       "      <td>179.250000</td>\n",
       "      <td>169.750000</td>\n",
       "      <td>184.000000</td>\n",
       "      <td>178.750000</td>\n",
       "      <td>175.000000</td>\n",
       "      <td>175.500000</td>\n",
       "      <td>170.000000</td>\n",
       "      <td>182.750000</td>\n",
       "    </tr>\n",
       "    <tr>\n",
       "      <th>max</th>\n",
       "      <td>174.000000</td>\n",
       "      <td>188.000000</td>\n",
       "      <td>184.000000</td>\n",
       "      <td>181.000000</td>\n",
       "      <td>189.000000</td>\n",
       "      <td>188.000000</td>\n",
       "      <td>188.000000</td>\n",
       "      <td>188.000000</td>\n",
       "      <td>184.000000</td>\n",
       "      <td>189.000000</td>\n",
       "    </tr>\n",
       "  </tbody>\n",
       "</table>\n",
       "</div>"
      ],
      "text/plain": [
       "               서울          경기          인천          광주          대구          부산  \\\n",
       "count   10.000000   10.000000   10.000000   10.000000   10.000000   10.000000   \n",
       "mean   161.300000  172.500000  169.800000  165.500000  175.200000  169.100000   \n",
       "std      6.360468   12.438739   10.591401    8.885069   11.961048   11.647126   \n",
       "min    153.000000  154.000000  154.000000  155.000000  154.000000  154.000000   \n",
       "25%    157.000000  161.500000  162.500000  158.500000  166.000000  161.500000   \n",
       "50%    160.500000  175.500000  170.000000  163.500000  179.500000  166.500000   \n",
       "75%    162.750000  183.000000  179.250000  169.750000  184.000000  178.750000   \n",
       "max    174.000000  188.000000  184.000000  181.000000  189.000000  188.000000   \n",
       "\n",
       "               전주          강릉          울산          수원  \n",
       "count   10.000000   10.000000   10.000000   10.000000  \n",
       "mean   170.000000  168.000000  165.000000  171.300000  \n",
       "std     12.719189   11.005049   10.434984   13.727912  \n",
       "min    151.000000  155.000000  152.000000  151.000000  \n",
       "25%    159.250000  159.000000  156.000000  160.500000  \n",
       "50%    172.000000  165.000000  164.500000  173.000000  \n",
       "75%    175.000000  175.500000  170.000000  182.750000  \n",
       "max    188.000000  188.000000  184.000000  189.000000  "
      ]
     },
     "execution_count": 70,
     "metadata": {},
     "output_type": "execute_result"
    }
   ],
   "source": [
    "# describe()는 각 열에 대한 통계를 구하는데 사용한다.\n",
    "df.describe()"
   ]
  },
  {
   "cell_type": "markdown",
   "id": "c40786e1-cc85-463a-af81-551b47e51f32",
   "metadata": {},
   "source": [
    "#### 분산 (Variance)\n",
    "- 변량이 평균으로부터 떨어져 있는 정도를 보기 위한 통계량이다.\n",
    "- 편차에 제곱하여 그 합을 구한 뒤 산술 평균을 낸다.\n",
    "\n",
    "<img src=\"./images/variance.png\" style=\"margin-lefr: 10px\"/>"
   ]
  },
  {
   "cell_type": "code",
   "execution_count": 71,
   "id": "e035f507-9964-4e46-b277-f8887f7c7793",
   "metadata": {},
   "outputs": [
    {
     "data": {
      "text/html": [
       "<div>\n",
       "<style scoped>\n",
       "    .dataframe tbody tr th:only-of-type {\n",
       "        vertical-align: middle;\n",
       "    }\n",
       "\n",
       "    .dataframe tbody tr th {\n",
       "        vertical-align: top;\n",
       "    }\n",
       "\n",
       "    .dataframe thead th {\n",
       "        text-align: right;\n",
       "    }\n",
       "</style>\n",
       "<table border=\"1\" class=\"dataframe\">\n",
       "  <thead>\n",
       "    <tr style=\"text-align: right;\">\n",
       "      <th></th>\n",
       "      <th>경기</th>\n",
       "      <th>편차</th>\n",
       "      <th>편차의 제곱(분산)</th>\n",
       "    </tr>\n",
       "  </thead>\n",
       "  <tbody>\n",
       "    <tr>\n",
       "      <th>0</th>\n",
       "      <td>188</td>\n",
       "      <td>15.5</td>\n",
       "      <td>240.25</td>\n",
       "    </tr>\n",
       "    <tr>\n",
       "      <th>1</th>\n",
       "      <td>187</td>\n",
       "      <td>14.5</td>\n",
       "      <td>210.25</td>\n",
       "    </tr>\n",
       "    <tr>\n",
       "      <th>2</th>\n",
       "      <td>161</td>\n",
       "      <td>-11.5</td>\n",
       "      <td>132.25</td>\n",
       "    </tr>\n",
       "    <tr>\n",
       "      <th>3</th>\n",
       "      <td>163</td>\n",
       "      <td>-9.5</td>\n",
       "      <td>90.25</td>\n",
       "    </tr>\n",
       "    <tr>\n",
       "      <th>4</th>\n",
       "      <td>175</td>\n",
       "      <td>2.5</td>\n",
       "      <td>6.25</td>\n",
       "    </tr>\n",
       "    <tr>\n",
       "      <th>5</th>\n",
       "      <td>177</td>\n",
       "      <td>4.5</td>\n",
       "      <td>20.25</td>\n",
       "    </tr>\n",
       "    <tr>\n",
       "      <th>6</th>\n",
       "      <td>159</td>\n",
       "      <td>-13.5</td>\n",
       "      <td>182.25</td>\n",
       "    </tr>\n",
       "    <tr>\n",
       "      <th>7</th>\n",
       "      <td>185</td>\n",
       "      <td>12.5</td>\n",
       "      <td>156.25</td>\n",
       "    </tr>\n",
       "    <tr>\n",
       "      <th>8</th>\n",
       "      <td>154</td>\n",
       "      <td>-18.5</td>\n",
       "      <td>342.25</td>\n",
       "    </tr>\n",
       "    <tr>\n",
       "      <th>9</th>\n",
       "      <td>176</td>\n",
       "      <td>3.5</td>\n",
       "      <td>12.25</td>\n",
       "    </tr>\n",
       "  </tbody>\n",
       "</table>\n",
       "</div>"
      ],
      "text/plain": [
       "    경기    편차  편차의 제곱(분산)\n",
       "0  188  15.5      240.25\n",
       "1  187  14.5      210.25\n",
       "2  161 -11.5      132.25\n",
       "3  163  -9.5       90.25\n",
       "4  175   2.5        6.25\n",
       "5  177   4.5       20.25\n",
       "6  159 -13.5      182.25\n",
       "7  185  12.5      156.25\n",
       "8  154 -18.5      342.25\n",
       "9  176   3.5       12.25"
      ]
     },
     "metadata": {},
     "output_type": "display_data"
    },
    {
     "name": "stdout",
     "output_type": "stream",
     "text": [
      "분산: 139.25\n"
     ]
    }
   ],
   "source": [
    "# 분산에서 변량이 평균으로부터 떨어져 있는 정도를 보기 위해서는 음수를 없애기 위해 제곱을 해줘야한다.\n",
    "# 그 이유는 거리의 절대값을 알아야하기 때문이다.\n",
    "gyeonggi_df['편차의 제곱(분산)'] = gyeonggi_df['편차'].apply(lambda x: x**2)\n",
    "\n",
    "display(gyeonggi_df)\n",
    "\n",
    "variance = gyeonggi_df['편차의 제곱(분산)'].mean()\n",
    "print(f'분산: {round(variance, 2)}')"
   ]
  },
  {
   "cell_type": "markdown",
   "id": "44f704d1-cb56-4f8b-adfe-4e1ebdee6ffd",
   "metadata": {},
   "source": [
    "#### 표준편차 (Standard deviation)\n",
    "- 분산의 제곱근이며, 관측된 변량의 흩어진 정도를 하나의 수치로 나타내는 통계량이다.\n",
    "- 표준편차가 작을 수록 평균 값에서 변량들의 거리가 가깝다고 판단한다.\n",
    "\n",
    "<img src=\"./images/standard_deviation.png\" style=\"margin-lefr: 10px\"/>"
   ]
  },
  {
   "cell_type": "code",
   "execution_count": 72,
   "id": "e5ef1a01-c53e-440a-baf5-2d2ffe439750",
   "metadata": {},
   "outputs": [
    {
     "name": "stdout",
     "output_type": "stream",
     "text": [
      "표준편차: 11.800423721205947\n"
     ]
    }
   ],
   "source": [
    "import math\n",
    "# sqrt는 분산의 제곱근을 구할때 사용한다.\n",
    "# 분산에서 제곱하였기 때문에 원래의 데이터 단위로 돌아가기 위해 사용한다.\n",
    "std = math.sqrt(variance)\n",
    "print(f'표준편차: {std}')"
   ]
  },
  {
   "cell_type": "markdown",
   "id": "e7b76fd7-7f12-4386-91ff-26eb430b6404",
   "metadata": {},
   "source": [
    "#### 확률변수 (Random variable)\n",
    "- 머신러닝, 딥러닝 등 확률을 다루는 분야에 있어서 필수적인 개념이다.\n",
    "- 확률(probability)이 있다는 뜻은 사건(event)이 있다는 뜻이며, 시행(trial)을 해야 시행의 결과인 사건(event)이 나타난다.\n",
    "- 시행(trial)을 해서 어떤 사건(event)이 나타났는지에 따라 값이 정해지는 변수이다.\n",
    "- 알파벳 대문자로 표현하며, X, Y, Z 또는 X<sub>1</sub> X<sub>2</sub> X<sub>3</sub>과 같이 표현한다.\n",
    "- 학률 변수는 집합이며, 원소를 확률변수값(Value of random variable)이라고 표현한다. 확률변수에서 사용한 알파벳의 소문자를 사용한다.\n",
    "- Y = {y<sub>1</sub>, y<sub>2</sub>, y<sub31</sub>}, 이 때 Y는 확률변수이고 원소인 y<sub>1</sub> ~ y<sub>3</sub>은 확률변수값이다.\n",
    "\n",
    "<img src=\"./images/random_variable.jpg\" width=\"700px\" style=\"margin-left: 15px\">"
   ]
  },
  {
   "cell_type": "markdown",
   "id": "b524134d-a4e3-4ad3-97b3-dc6631209f75",
   "metadata": {},
   "source": [
    "#### 범주형 확률변수 (Categorical random variable)\n",
    "- 범주형 확률변수값은 수치가 아닌 기호나 언어, 숫자등으로 표현하고, 기호나 언어는 순서를 가질 수도 있다.\n",
    "- 유한집합으로 표현한다. 유한집합은 원소의 수가 유한한 집합을 의미한다.\n",
    "- {앞면, 뒷면}, {동의, 비동의}, {선택, 미선택}, {봄, 여름, 가을, 겨울}"
   ]
  },
  {
   "cell_type": "markdown",
   "id": "a0aa03e4-ff18-4551-ae87-548bdcec8c66",
   "metadata": {},
   "source": [
    "#### 이산형 확률변수 (Discrete random variable)\n",
    "- 이산형 확률변수값은 수치로 표현하고 셀 수 있는 값이다. 이를 더 넓은 범위로, 양적 확률 변수 또는 수치형 확률 변수라고도 한다.\n",
    "- 유한 집합 또는 셀 수 있는 무한 집합으로 표현한다. 무한 집합은 원소의 수가 무한한 집합을 의미한다.\n",
    "- {0, 1, 2, 3}, {10, 20, 30}, {1, 2, 3, ...}, {100, 1000, 10000}"
   ]
  },
  {
   "cell_type": "markdown",
   "id": "8b938905-19e7-4c01-ab24-aec48f60a605",
   "metadata": {},
   "source": [
    "#### 연속형 확률변수 (Continuous random variable)\n",
    "- 연속형 확률 변수는 구간을 나타내는 수치로 표현한다. 이를 더 없은 범위로, 양적 확률 변수 또는 수피형 확률 변수라고도 부른다.\n",
    "- 셀 수 없는 무한집합으로 표현한다.\n",
    "- 128.56 < X < 268.56"
   ]
  },
  {
   "cell_type": "markdown",
   "id": "c16625ac-0bfe-487b-959c-cd33ef0cd158",
   "metadata": {},
   "source": [
    "#### 확률분포 (Probability distribution)\n",
    "- 사건에 대한 확률 변수에서 정의된 모든 확률 값의 분포이며 서로 다른 모든 결과의 출현 확률을 제공한다.\n",
    "> <strong>1) 동전 던지기(시행)</strong>  \n",
    "> <strong>2) { 0, 1 } (확률변수와 학률변수값)</strong>  \n",
    "> <strong>3) 완벽한 형태의 동전일 경우 확률 분포</strong>  \n",
    ">\n",
    "> <img src=\"./images/probability_distribution01.png\">\n",
    ">  \n",
    "> <strong>1) 1 ~ 12까지 새겨진 주사위 던지기(시행)</strong>  \n",
    "> <strong>2) { 1, 2, 3, 4, 5, 6, 7, 8, 9, 10, 11, 12 } (확률변수와 학률변수값)</strong>  \n",
    "> <strong>3) 완벽한 형태의 주사위일 경우 확률 분포</strong>  \n",
    ">\n",
    "> <img src=\"./images/probability_distribution02.png\">\n"
   ]
  },
  {
   "cell_type": "markdown",
   "id": "73d3a1d0-9f2a-434a-9330-fcc69e8b720e",
   "metadata": {},
   "source": [
    "#### 확률분포표 (Probability distribution table)\n",
    "- 확률변수의 모든 값(원소)에 대해 확률을 표로 표시한 것이다.\n",
    "- 범주형 또는 이산형 확률 변수의 확률 분포를 표현하기에 적합한 방식이다."
   ]
  },
  {
   "cell_type": "code",
   "execution_count": 73,
   "id": "b0137575-26ac-473f-ac26-f4ee7112ab1a",
   "metadata": {},
   "outputs": [
    {
     "data": {
      "text/html": [
       "<div>\n",
       "<style scoped>\n",
       "    .dataframe tbody tr th:only-of-type {\n",
       "        vertical-align: middle;\n",
       "    }\n",
       "\n",
       "    .dataframe tbody tr th {\n",
       "        vertical-align: top;\n",
       "    }\n",
       "\n",
       "    .dataframe thead th {\n",
       "        text-align: right;\n",
       "    }\n",
       "</style>\n",
       "<table border=\"1\" class=\"dataframe\">\n",
       "  <thead>\n",
       "    <tr style=\"text-align: right;\">\n",
       "      <th></th>\n",
       "      <th>경주마 번호</th>\n",
       "      <th>1등 횟수</th>\n",
       "      <th>1등할 확률</th>\n",
       "    </tr>\n",
       "  </thead>\n",
       "  <tbody>\n",
       "    <tr>\n",
       "      <th>0</th>\n",
       "      <td>1</td>\n",
       "      <td>25</td>\n",
       "      <td>0.25</td>\n",
       "    </tr>\n",
       "    <tr>\n",
       "      <th>1</th>\n",
       "      <td>2</td>\n",
       "      <td>25</td>\n",
       "      <td>0.25</td>\n",
       "    </tr>\n",
       "    <tr>\n",
       "      <th>2</th>\n",
       "      <td>3</td>\n",
       "      <td>25</td>\n",
       "      <td>0.25</td>\n",
       "    </tr>\n",
       "    <tr>\n",
       "      <th>3</th>\n",
       "      <td>4</td>\n",
       "      <td>25</td>\n",
       "      <td>0.25</td>\n",
       "    </tr>\n",
       "  </tbody>\n",
       "</table>\n",
       "</div>"
      ],
      "text/plain": [
       "   경주마 번호  1등 횟수  1등할 확률\n",
       "0       1     25    0.25\n",
       "1       2     25    0.25\n",
       "2       3     25    0.25\n",
       "3       4     25    0.25"
      ]
     },
     "metadata": {},
     "output_type": "display_data"
    }
   ],
   "source": [
    "import numpy as np\n",
    "import pandas as pd\n",
    "# arange는 주어진 범위 내에서 일정 간격으로 값을 구할때 사용한다.\n",
    "df_h_dist = pd.DataFrame(np.arange(0, 100) % 4 + 1, columns=['경주마 번호'])\n",
    "df_h_dist_group = df_h_dist.groupby('경주마 번호')[\"경주마 번호\"].count().reset_index(name=\"1등 횟수\")\n",
    "\n",
    "df_h_dist_group['1등할 확률'] = df_h_dist_group['1등 횟수'] / 100\n",
    "display(df_h_dist_group)"
   ]
  },
  {
   "cell_type": "markdown",
   "id": "e2850e65-fce4-4293-9a93-95ab83f67b43",
   "metadata": {},
   "source": [
    "#### 확률분포함수 (Probability distribution funtion)\n",
    "- 확률변수의 분포를 나타내는 함수로서, 확률변수의 확률변수값이 나올 확률을 나타내는 함수이다.\n",
    "- 확률질량함수, 확률밀도함수 등의 함수가 있다."
   ]
  },
  {
   "cell_type": "code",
   "execution_count": 74,
   "id": "a46d9bc8-f5b4-4467-9c4e-a4ae865d794b",
   "metadata": {},
   "outputs": [
    {
     "data": {
      "image/png": "[encoded data removed]",
      "text/plain": [
       "<Figure size 640x480 with 1 Axes>"
      ]
     },
     "metadata": {},
     "output_type": "display_data"
    }
   ],
   "source": [
    "import matplotlib.pyplot as plt\n",
    "import numpy as np\n",
    "\n",
    "# 히스토그램 아랫넓이를 1로만들어준다\n",
    "plt.hist(df_h_dist['경주마 번호'], range(1, 6), density=True, color='pink', edgecolor=\"red\")\n",
    "plt.xlim(0,6)\n",
    "plt.ylim(0,1)\n",
    "plt.show()"
   ]
  },
  {
   "cell_type": "markdown",
   "id": "06fea588-0258-4577-9bd2-72df12acd512",
   "metadata": {},
   "source": [
    "#### 확률질량 함수 (Probability mass function, pmf)\n",
    "- 확률변수 X의 분포를 나타내는 함수로서, x<sub>i</sub>가 나올 확률이다.\n",
    "- 확률 변수의 값을 매개변수로 전달 받고, 해당 값이 나타날 확률을 구해서 리턴하는 함수이다.\n",
    "- 범주형 확률변수와 이산형 확률 변수에서 사용된다.\n",
    "- 확률변수에서 각 값에 대한 확률을 나타내는 것이 마치 각 값이 \"질량\"을 가지고 있는 것처럼 보이기 때문에 확률 질량 함수로 불린다.\n",
    "\n",
    "> 확률질량 함수 f는 확률변수 X가 변수값으로 가질때의 확률이다.  \n",
    "> <img src=\"./images/pmf01.png\" style=\"margin-top:10px\">  \n",
    "> <img src=\"./images/pmf02.png\">  \n",
    "> <img src=\"./images/pmf03.png\">"
   ]
  },
  {
   "cell_type": "code",
   "execution_count": 75,
   "id": "e40b5733-135e-44e0-bf19-d7bb72710214",
   "metadata": {},
   "outputs": [
    {
     "data": {
      "text/html": [
       "<div>\n",
       "<style scoped>\n",
       "    .dataframe tbody tr th:only-of-type {\n",
       "        vertical-align: middle;\n",
       "    }\n",
       "\n",
       "    .dataframe tbody tr th {\n",
       "        vertical-align: top;\n",
       "    }\n",
       "\n",
       "    .dataframe thead th {\n",
       "        text-align: right;\n",
       "    }\n",
       "</style>\n",
       "<table border=\"1\" class=\"dataframe\">\n",
       "  <thead>\n",
       "    <tr style=\"text-align: right;\">\n",
       "      <th></th>\n",
       "      <th>경주마 번호</th>\n",
       "      <th>1등 횟수</th>\n",
       "      <th>1등할 확률</th>\n",
       "    </tr>\n",
       "  </thead>\n",
       "  <tbody>\n",
       "    <tr>\n",
       "      <th>0</th>\n",
       "      <td>1</td>\n",
       "      <td>24</td>\n",
       "      <td>0.24</td>\n",
       "    </tr>\n",
       "    <tr>\n",
       "      <th>1</th>\n",
       "      <td>2</td>\n",
       "      <td>19</td>\n",
       "      <td>0.19</td>\n",
       "    </tr>\n",
       "    <tr>\n",
       "      <th>2</th>\n",
       "      <td>3</td>\n",
       "      <td>22</td>\n",
       "      <td>0.22</td>\n",
       "    </tr>\n",
       "    <tr>\n",
       "      <th>3</th>\n",
       "      <td>4</td>\n",
       "      <td>35</td>\n",
       "      <td>0.35</td>\n",
       "    </tr>\n",
       "  </tbody>\n",
       "</table>\n",
       "</div>"
      ],
      "text/plain": [
       "   경주마 번호  1등 횟수  1등할 확률\n",
       "0       1     24    0.24\n",
       "1       2     19    0.19\n",
       "2       3     22    0.22\n",
       "3       4     35    0.35"
      ]
     },
     "metadata": {},
     "output_type": "display_data"
    }
   ],
   "source": [
    "import numpy as np\n",
    "import pandas as pd\n",
    "\n",
    "df_h = pd.DataFrame(np.random.randint(1, 5, size=(100, 1)), columns=[\"경주마 번호\"])\n",
    "\n",
    "df_h_group = df_h.groupby(\"경주마 번호\")[\"경주마 번호\"].count().reset_index(name=\"1등 횟수\")\n",
    "\n",
    "df_h_group[\"1등할 확률\"] = df_h_group[\"1등 횟수\"] / 100\n",
    "\n",
    "\n",
    "display(df_h_group)"
   ]
  },
  {
   "cell_type": "code",
   "execution_count": 76,
   "id": "ed3feb9f-8ae1-40b0-a320-f4470cbc5740",
   "metadata": {},
   "outputs": [
    {
     "data": {
      "text/plain": [
       "(array([0.24, 0.19, 0.22, 0.35]),\n",
       " array([1., 2., 3., 4., 5.]),\n",
       " <BarContainer object of 4 artists>)"
      ]
     },
     "execution_count": 76,
     "metadata": {},
     "output_type": "execute_result"
    },
    {
     "data": {
      "image/png": "[encoded data removed]",
      "text/plain": [
       "<Figure size 640x480 with 1 Axes>"
      ]
     },
     "metadata": {},
     "output_type": "display_data"
    }
   ],
   "source": [
    "import matplotlib.pyplot as plt\n",
    "import numpy as np\n",
    "\n",
    "# density=True로 하면 질량함수가 아닌 밀도함수로 만든다는 뜻이다.\n",
    "plt.hist(df_h['경주마 번호'], range(1, 6), density=True\\\n",
    "         , color='pink', edgecolor='red', linewidth=2)"
   ]
  },
  {
   "cell_type": "markdown",
   "id": "4e1a6813-d51b-4acf-a9b9-35e35ac9b92f",
   "metadata": {},
   "source": [
    "#### 무한대 (Infinity)\n",
    "- 끝없이 커지는 상태를 의미하고 기호로 ∞를 사용한다."
   ]
  },
  {
   "cell_type": "markdown",
   "id": "6c48c5b4-91e9-4bef-b14c-73975d7e24af",
   "metadata": {},
   "source": [
    "#### 무한소 (Infinitesimal)\n",
    "- 거의 없다는 의미이고, 0에 매우 근접하지만 0이 아닌 상태를 의미한다."
   ]
  },
  {
   "cell_type": "markdown",
   "id": "45c5a841-a416-419c-bbcf-ff234429c21e",
   "metadata": {},
   "source": [
    "#### 미분 (Differential)\n",
    "- 기울기는 독립변수가 종속 변수에 미치는 영향력의 크기를 의미한다.\n",
    "- 변경 전의 독립변수 x<sub>1</sub> 이라는 점과 변경 후의 x<sub>2</sub>라는 점을 지나는 직선의 기울기가 바로 변화에 대한 속도이다.\n",
    "- 즉 , 직선의 기울기가 4로 구해졌다면, 종속변수가 독립변수의 변화에 4배 속도로 변화된 것이다.\n",
    "- 이 때, 두점 사이가 무한히 가까워지면, 결국 거의 한점과 같은 점에 대한 접선의 기울기가 되고 이는 순간적인 변화량이다.\n",
    "- 미분을 통해서 독립변수가 굉장히 미세하게 변화할 때 순간적으로 종속 변수가 얼마나 빠르게 변화하는 지를 알수 있다."
   ]
  },
  {
   "cell_type": "markdown",
   "id": "5f20c272-ebf0-4d5c-a78d-4996fb306868",
   "metadata": {},
   "source": [
    "#### 적분 (Integral)\n",
    "- 선분 = 높이(길이), 면적 = 가로 X 높이\n",
    "- 면적을 구할 때 여러 사각형으로 나눈 뒤 합하여도 전체 면적이 나온다.\n",
    "- 가로가 무한소 0인 사각형 즉, 선분과 비슷한 사각형을 쌓은 뒤, 각 면적을 모두 합하는 것이 적분이다."
   ]
  },
  {
   "cell_type": "markdown",
   "id": "f3d60018-4b16-49c2-9bc6-308e265c0ca9",
   "metadata": {},
   "source": [
    "#### 확률밀도 함수 (Probability density function, pdf)\n",
    "- 확률 변수 X의 분포를 나타내는 함수로서, 특정 구간에 속할 확률이고 이는 특정 구간을 적분한 값이다.\n",
    "- 확률변수값의 범위(구간)를 매개변수로 전달받고, 범위의 넓이는 구해서 리턴하는 함수이다.\n",
    "- 연속형 확률변수에서 사용된다.\n",
    "- 전체에 대한 확률이 아닌 구간에 포함될 확률을 나타내기 때문에구간에 다른 밀도를 구하는 것이고, 이를 통해 확률밀도 함수라 불린다.\n",
    "\n",
    "> 확률 밀도 함수 f는 특정 구간에 포함될 확률을 나타낸다.  \n",
    "> <img src=\"./images/pdf01.png\" style=\"margin-top:10px\">  \n",
    "> <img src=\"./images/pdf02.png\">  \n",
    "> <img src=\"./images/pdf03.png\">  \n",
    "> <img src=\"./images/pdf04.png\">"
   ]
  },
  {
   "cell_type": "code",
   "execution_count": 77,
   "id": "5b6b9315-b759-47a8-8a3d-b5665324485a",
   "metadata": {},
   "outputs": [
    {
     "name": "stdout",
     "output_type": "stream",
     "text": [
      "구간 [-1, 2]에서의 확률: 0.8185946141203638\n"
     ]
    },
    {
     "data": {
      "image/png": "[encoded data removed]",
      "text/plain": [
       "<Figure size 640x480 with 1 Axes>"
      ]
     },
     "metadata": {},
     "output_type": "display_data"
    }
   ],
   "source": [
    "import numpy as np\n",
    "import matplotlib.pyplot as plt\n",
    "from scipy.integrate import quad\n",
    "\n",
    "# 임의의 확률밀도 함수 정의\n",
    "def pdf(x):\n",
    "    # 정규분포\n",
    "    mu = 0\n",
    "    sigma = 1\n",
    "    return 1 / (sigma * np.sqrt(2 * np.pi)) * np.exp(-((x - mu) / sigma) ** 2 / 2)\n",
    "\n",
    "# 랜덤한 구간\n",
    "a = -1\n",
    "b = 2\n",
    "\n",
    "def calculate_probability_in_range(a, b):\n",
    "    probability, _ = quad(pdf, a, b)\n",
    "    return probability\n",
    "\n",
    "probability = calculate_probability_in_range(a, b)\n",
    "print(f'구간 [{a}, {b}]에서의 확률: {probability}')\n",
    "\n",
    "x_values = np.linspace(-5, 5, 10000)\n",
    "y_values = pdf(x_values)\n",
    "\n",
    "plt.plot(x_values, y_values, label='pdf', color='blue')\n",
    "plt.fill_between(x_values, y_values\\\n",
    "                 , where=(x_values >= a) & (x_values <= b)\\\n",
    "                 , color='skyblue', alpha=0.5, label='area')\n",
    "plt.axvline(x=a, linestyle='--', color='red', label='start')\n",
    "plt.axvline(x=b, linestyle='--', color='red', label='end')\n",
    "plt.xlabel('x')\n",
    "plt.ylabel('density')\n",
    "plt.title('Probability density function')\n",
    "plt.legend()\n",
    "plt.grid(True)\n",
    "plt.show()"
   ]
  },
  {
   "cell_type": "markdown",
   "id": "c846af03-bab1-479f-9823-3c89f5cf1dd8",
   "metadata": {},
   "source": [
    "#### 정규분포 (Normal distribution)\n",
    "- 모든 독립적인 확률변수들의 평균은 어떠한 분포에 가까워지는데, 이 분포를 정규분포라고 한다.\n",
    "- 즉, 비 정규분포의 대부분은 극한 상태에서 있어서 정규분포에 가까워진다.\n",
    "\n",
    "<img src=\"./images/normal_distribution01.png\" width=\"500px\"> <img src=\"./images/normal_distribution02.png\" width=\"500px\">  \n",
    "- 평균 μ(mu)와 표준편차 σ(sigma)에 대해 아래의 확률밀도함수를 가지는 분포를 의미한다.\n",
    "\n",
    "<div style=\"display:flex\">\n",
    "    <div><img src=\"./images/normal_distribution03.png\" width=\"230px\" style=\"margin-left:20px\"></div>\n",
    "    <div><img src=\"./images/normal_distribution04.png\" width=\"700px\" style=\"margin-left:20px\"></div>\n",
    "</div>"
   ]
  },
  {
   "cell_type": "markdown",
   "id": "3efc3e27-b3f2-494c-a687-8c8cb838ae70",
   "metadata": {},
   "source": [
    "#### 표준 정규분포 (Standard mormal distribution)\n",
    "- 정규분포는 평균과 표준편자에 따라서 모양이 달라진다.\n",
    "\n",
    "\n",
    "<img src=\"./images/standard_normal_distribution01.png\" width=\"400px\"/>\n",
    "\n",
    "- 정규분포를 따르는 분포는 많지만 각 평균과 표준편차가 달라서 일반화 할 수 없다.\n",
    "- N(μ, σ) = N(0, 1)로 만든다면 모두 같은 특성을 가지는 동일한 확률 분포로 바꿔서 일반화할 수 있다.\n",
    "- 따라서 일반 정규분포로 바군 뒤 표준 정규분포의 특정 구간의 넓이를 이용해서 원래 분포의 확률을 구할 수 있다.\n",
    "\n",
    "<img src=\"./images/standard_normal_distribution02.png\" width=\"550px\"/>\n",
    "\n"
   ]
  },
  {
   "cell_type": "markdown",
   "id": "6c854896-d6dc-453a-a501-dc29f689b9a5",
   "metadata": {},
   "source": [
    "#### 표준화 (Standardiztion)\n",
    "- 다양한 형태의 정규분포를 표준 정규분포로 변환하는 방법이다.\n",
    "- 표준 정규분포에 대한 값(넓이)를 이용해 원래 분포의 확률을 구할 수 있다.\n",
    "\n",
    "<img src=\"./images/standardization01.png\" style=\"margin-left:20px\"/>  \n",
    "\n",
    "<img src=\"./images/standardization02.png\" style=\"margin-left:20px\"/>"
   ]
  },
  {
   "cell_type": "markdown",
   "id": "c558783c-ca6b-4c2a-9def-4b2438439725",
   "metadata": {},
   "source": [
    "#### 모집단과 모수 (Population and population parameter)\n",
    "- 모집단이란, 정보를 얻고자 하는 대상의 전체 집합을 의미한다.\n",
    "- 모수란, 모집단의 수치적 요약값을 의미한다. 평균 또는 표준편차와 같은 모집단의 통계값을 모수하고 한다."
   ]
  },
  {
   "cell_type": "markdown",
   "id": "d1c3d71e-c2ca-40c3-9cf6-1369b0490e48",
   "metadata": {},
   "source": [
    "#### 표본과 샘플링 (Sample and Sampling)\n",
    "- 표본이란, 모집단의 부분 집합으로서 표본의 통계량을 통해 모집단의 통계량을 추론할 수 있다.\n",
    "- 모집단의 통계량을 구할 수 없는 상황 즉, 전수 조사가 불가능한 상황에서 임의의 표본을 추출하여 분석한다.\n",
    "- 이렇게 표본(sample)을 추출하는 작업을 샘플링(sampling)이라고 한다."
   ]
  },
  {
   "cell_type": "markdown",
   "id": "3fe0c7d0-0215-4e5f-9328-29e90590ff96",
   "metadata": {},
   "source": [
    "### 데이터 분석의 범위\n",
    "<img src=\"./images/statistics02.png\" width=\"400px\" style=\"margin-left:10px\">  \n",
    "\n",
    "#### 기술 통계 (Descriptive Statistics)\n",
    "- 수집한 데이터의 요약을 통해서 데이터를 설명(묘사)하는 기법이다.\n",
    "- 수집한 데이터의 전체적인 묘양을 그리기 위해 기술 통계 기법을 사용한다.\n",
    "- 집중화 경향(Central tendency): 평균(Mean), 중앙값(Median), 최빈값(Mode)\n",
    "- 분산도(Variation): 표준편차(Stantdard deviation), 사분위(Quartile)\n",
    "\n",
    "\n",
    "#### 추론 통계 (Inferential Statistics)\n",
    "- 수집한 데이터를 기반으로 특성(패턴)을 알아낸뒤 특정 데이터를 추론하거나 예측하는 기법이다.\n",
    "- 모집단(Population)에서 일정 표본(Sample)을 채취한 뒤 ,표본에 대한 통계를 구하여 모집단에 대해 추론한다. 이를 통해 결론에 도달하는 기법이다.\n",
    "- 데이터 전체를 조사할 수 없을때, 랜덤한 표본을 분석해서 나온 결과를 전체적으로 일반화 시킬 때 유용하다.\n"
   ]
  }
 ],
 "metadata": {
  "kernelspec": {
   "display_name": "Python 3 (ipykernel)",
   "language": "python",
   "name": "python3"
  },
  "language_info": {
   "codemirror_mode": {
    "name": "ipython",
    "version": 3
   },
   "file_extension": ".py",
   "mimetype": "text/x-python",
   "name": "python",
   "nbconvert_exporter": "python",
   "pygments_lexer": "ipython3",
   "version": "3.11.8"
  }
 },
 "nbformat": 4,
 "nbformat_minor": 5
}
