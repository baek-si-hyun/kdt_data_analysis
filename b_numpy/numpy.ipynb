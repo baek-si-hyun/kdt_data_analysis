{
 "cells": [
  {
   "cell_type": "code",
   "execution_count": 88,
   "id": "c8a11045-186f-4498-8675-f3839bc5d3c0",
   "metadata": {},
   "outputs": [],
   "source": [
    "import numpy as np"
   ]
  },
  {
   "cell_type": "code",
   "execution_count": 89,
   "id": "8ef65c80-7c16-4827-91bd-e1f9d37fe1ad",
   "metadata": {},
   "outputs": [
    {
     "name": "stdout",
     "output_type": "stream",
     "text": [
      "1.26.4\n"
     ]
    }
   ],
   "source": [
    "print(np.__version__)"
   ]
  },
  {
   "cell_type": "markdown",
   "id": "649664aa-2339-48c2-8a87-5b4dbf2b01d2",
   "metadata": {},
   "source": [
    "### Numpy\n",
    "- 머신러닝 애플리케이션에서 데이터 추출, 가공, 변환 같은 데이터 처리 부분을 담당한다.\n",
    "- 넘파이 기반의 사이킷런을 이해하기 위해서는 넘파이는 필수이다.\n",
    "- 사이킷런은 직돤적이고 간결하기 때문에 상대적으로 개발하기 쉽지만 넘파이는 양도 많고 배울 것도 많다.\n",
    "- 넘파이 전체를 다 이해하고 공부하는 것은 머신러닝을 포기하게 만들기 때문에 기본 문법과 중요 API만 이해하는 전략으로 좋다."
   ]
  },
  {
   "cell_type": "markdown",
   "id": "bef9d97a-5193-4bb6-9fb5-3ebdb09db31a",
   "metadata": {},
   "source": [
    "#### ndarray\n",
    "- N 차원(n-dimension)배열 객체이다.\n",
    "- 파이선 list를 array()메서드에 전달하면 ndarray로 변환되고 넘파이의 다양한 편리한 기능을 사용할 수 있게 된다.\n",
    "- 반드시 같은 자료형 데이터만 담아야한다.\n",
    "\n",
    "<img src=\"./images/numpy1.png\" width=\"400px\" style=\"margin-left:10px\">"
   ]
  },
  {
   "cell_type": "code",
   "execution_count": 90,
   "id": "a0221d9e-027f-40fa-91f6-a3d452c7dd52",
   "metadata": {},
   "outputs": [],
   "source": [
    "import numpy as np\n"
   ]
  },
  {
   "cell_type": "code",
   "execution_count": 91,
   "id": "c168e0ad-b39d-45d9-b7ce-72a0d2e5002a",
   "metadata": {},
   "outputs": [
    {
     "name": "stdout",
     "output_type": "stream",
     "text": [
      "<class 'numpy.ndarray'>\n",
      "[1 2 3]\n",
      "==============================\n",
      "(3,)\n",
      "1\n"
     ]
    }
   ],
   "source": [
    "ndarray1 = np.array([1, 2, 3])\n",
    "print(type(ndarray1), ndarray1,sep='\\n')\n",
    "\n",
    "print('=' * 30)\n",
    "\n",
    "# shape: 차원을 알 수 있다\n",
    "print(ndarray1.shape)\n",
    "\n",
    "# ndim: 차원 개수를 나타낸다.\n",
    "print(ndarray1.ndim)\n"
   ]
  },
  {
   "cell_type": "code",
   "execution_count": 92,
   "id": "079ff9e1-31ea-437f-a128-2c3b3a8c42b4",
   "metadata": {},
   "outputs": [
    {
     "name": "stdout",
     "output_type": "stream",
     "text": [
      "(2, 3)\n",
      "2\n"
     ]
    }
   ],
   "source": [
    "# 아래의 2차원 list를 ndarray로 변환한다.\n",
    "# 1 2 3\n",
    "# 4 5 6\n",
    "ndarray2 = np.array([[1, 2, 3],[4, 5, 6]])\n",
    "# 차원을 출력해본다.\n",
    "print(ndarray2.shape)\n",
    "print(ndarray2.ndim)"
   ]
  },
  {
   "cell_type": "markdown",
   "id": "2391a82c-9b6f-474a-940d-3fe556ebce07",
   "metadata": {},
   "source": [
    "#### astype()\n",
    "- ndarray에 저장된 요소의 타입을 변환 시킬 때 사용한다.\n",
    "- 대용량 데이터 처리시, 메모리 절약을 위해 사용한다."
   ]
  },
  {
   "cell_type": "code",
   "execution_count": 93,
   "id": "05823265-c888-45d2-ac6f-4d398994c668",
   "metadata": {},
   "outputs": [
    {
     "name": "stdout",
     "output_type": "stream",
     "text": [
      "<class 'numpy.ndarray'>\n",
      "int32\n",
      "<class 'numpy.ndarray'>\n",
      "int8\n"
     ]
    }
   ],
   "source": [
    "ndarray1 = np.array([1, 2, 3])\n",
    "\n",
    "print(type(ndarray1))\n",
    "print(ndarray1.dtype)\n",
    "\n",
    "ndarray1_int8 = ndarray1.astype(np.int8)\n",
    "\n",
    "print(type(ndarray1_int8))\n",
    "print(ndarray1_int8.dtype)"
   ]
  },
  {
   "cell_type": "code",
   "execution_count": 94,
   "id": "ef2b609b-5064-43dd-8fc7-5b5bb0eac243",
   "metadata": {},
   "outputs": [
    {
     "name": "stdout",
     "output_type": "stream",
     "text": [
      "(3,)\n",
      "int32\n",
      "float16\n",
      "[4. 5. 6.]\n"
     ]
    }
   ],
   "source": [
    "# 4, 5, 6을 ndarray에 담는다.\n",
    "ndarray = np.array([4, 5, 6])\n",
    "# dtype을 확인한 뒤 float16으로 변경시키고 확인한다.\n",
    "print(ndarray.shape)\n",
    "print(ndarray.dtype)\n",
    "ndarray_float16 = ndarray.astype(np.float16)\n",
    "print(ndarray_float16.dtype)\n",
    "print(ndarray_float16)"
   ]
  },
  {
   "cell_type": "markdown",
   "id": "f3dd2601-4a69-4f97-9a42-f18e745f236b",
   "metadata": {},
   "source": [
    "#### axis\n",
    "- 축의 방향성을 표혆라 때 axis로 표현할 수 있다.\n",
    "\n",
    "<img src=\"./images/numpy2.png\" width=\"500px\" style=\"margin-left:10px\">"
   ]
  },
  {
   "cell_type": "markdown",
   "id": "0a2c6f34-6526-4979-8cf7-9fd5a1b254ca",
   "metadata": {},
   "source": [
    "#### arange(),, zeros(0,_ ones())\n",
    "- ndarray의 요소를 원하는 범위의 연속값, 0또는 1로 초기화 할 때 사용한다."
   ]
  },
  {
   "cell_type": "code",
   "execution_count": 95,
   "id": "6bb02109-85c5-41c1-8dd4-08368e56c5c8",
   "metadata": {},
   "outputs": [
    {
     "name": "stdout",
     "output_type": "stream",
     "text": [
      "int32 (10,)\n",
      "[0 1 2 3 4 5 6 7 8 9]\n",
      "float64 (2, 3)\n",
      "[[0. 0. 0.]\n",
      " [0. 0. 0.]]\n",
      "int16 (3,)\n",
      "[1 1 1]\n"
     ]
    }
   ],
   "source": [
    "# 0 ~ 9까지 1차원 ndarray\n",
    "ndarray1 = np.arange(0, 10)\n",
    "print(ndarray1.dtype, ndarray1.shape)\n",
    "print(ndarray1)\n",
    "\n",
    "# 2행 3열 요소 모두 0으로 초기화\n",
    "ndarray2 = np.zeros((2, 3))\n",
    "print(ndarray2.dtype, ndarray2.shape)\n",
    "print(ndarray2)\n",
    "\n",
    "# 1차원 3칸 배열 묘소 모두 1로 초기화\n",
    "ndarray1 = np.ones((3,), dtype=np.int16)\n",
    "print(ndarray1.dtype, ndarray1.shape)\n",
    "print(ndarray1)"
   ]
  },
  {
   "cell_type": "markdown",
   "id": "c0ece4e4-7f3c-444d-8b5b-143824926778",
   "metadata": {},
   "source": [
    "### reshape()\n",
    "- ndarray의 기존 shape를 다른 shape로 변경한다."
   ]
  },
  {
   "cell_type": "code",
   "execution_count": 96,
   "id": "29cfe21a-1755-46b0-907b-d5d486b9fb56",
   "metadata": {},
   "outputs": [
    {
     "name": "stdout",
     "output_type": "stream",
     "text": [
      "(8,)\n",
      "[0 1 2 3 4 5 6 7]\n",
      "==============================\n",
      "(2, 4)\n",
      "[[0 1 2 3]\n",
      " [4 5 6 7]]\n",
      "==============================\n",
      "(8, 1)\n",
      "[[0]\n",
      " [1]\n",
      " [2]\n",
      " [3]\n",
      " [4]\n",
      " [5]\n",
      " [6]\n",
      " [7]]\n",
      "==============================\n"
     ]
    }
   ],
   "source": [
    "ndarray1 = np.arange(8)\n",
    "print(ndarray1.shape)\n",
    "print(ndarray1)\n",
    "\n",
    "print('=' * 30)\n",
    "\n",
    "# ndarray1.reshape(2, 4)\n",
    "ndarray2 = ndarray1.reshape((2, 4))\n",
    "print(ndarray2.shape)\n",
    "print(ndarray2)\n",
    "\n",
    "print('=' * 30)\n",
    "\n",
    "ndarray2 = ndarray1.reshape((8, -1))\n",
    "print(ndarray2.shape)\n",
    "print(ndarray2)\n",
    "\n",
    "print('=' * 30)"
   ]
  },
  {
   "cell_type": "markdown",
   "id": "5710b1a9-0426-4265-a7b2-947ee068fbcd",
   "metadata": {},
   "source": [
    "#### Indexing\n",
    "- 특정 위치의 데이터를 가져오는 것\n",
    "- 위치 인덱싱(Location indexing)\n",
    "- 슬라이싱 (Slicing)\n",
    "- 팬시 인덱싱 (Fancy indexing)\n",
    "- 불린 인덱싱 (Boolean indexing)"
   ]
  },
  {
   "cell_type": "code",
   "execution_count": 97,
   "id": "e8e7b2a4-c94f-4cbb-894b-f0464f59a240",
   "metadata": {},
   "outputs": [
    {
     "name": "stdout",
     "output_type": "stream",
     "text": [
      "[ 2  3  4  5  6  7  8  9 10]\n",
      "4 <class 'numpy.int32'>\n",
      "10 <class 'numpy.int32'>\n",
      "[  2   3   4   5   6   7   8   9 100]\n",
      "9 <class 'numpy.int32'>\n"
     ]
    }
   ],
   "source": [
    "# 1차원 위치 인덱싱: 전달한 위치(인덱스) 값 한개 추출\n",
    "\n",
    "# 2부터 10까지 순서대로 요소를 갖는 1차원 ndarray\n",
    "ndarray1 = np.arange(start=2, stop=11)\n",
    "print(ndarray1)\n",
    "\n",
    "data = ndarray1[2]\n",
    "print(data, type(data))\n",
    "\n",
    "data = ndarray1[-1]\n",
    "print(data, type(data))\n",
    "\n",
    "ndarray1[-1] = 100\n",
    "print(ndarray1)\n",
    "\n",
    "# 9가져오기\n",
    "\n",
    "data = ndarray1[-2]\n",
    "print(data, type(data))"
   ]
  },
  {
   "cell_type": "code",
   "execution_count": 98,
   "id": "fe3c8308-1290-4872-892a-15366fff56f2",
   "metadata": {},
   "outputs": [
    {
     "name": "stdout",
     "output_type": "stream",
     "text": [
      "[1 2 3 4 5 6 7 8 9]\n",
      "[[1 2 3]\n",
      " [4 5 6]\n",
      " [7 8 9]]\n",
      "4\n",
      "5\n",
      "[1 2 3] <class 'numpy.ndarray'>\n"
     ]
    }
   ],
   "source": [
    "# 2차원 위치 인덱싱: 전달한 위치(인덱스) 값 한개 추출\n",
    "\n",
    "# 1~ 9까지 1차원 ndarray 생성\n",
    "ndarray1 = np.arange(1, 10)\n",
    "print(ndarray1)\n",
    "# 2차원 3행으로 변경\n",
    "ndarray2 = ndarray1.reshape((3,-1))\n",
    "print(ndarray2)\n",
    "print(ndarray2[1, 0])\n",
    "print(ndarray2[1, 1])\n",
    "print(ndarray2[0], type(ndarray2[0]))"
   ]
  },
  {
   "cell_type": "code",
   "execution_count": 99,
   "id": "9de6e542-9680-446a-b675-976e8100522c",
   "metadata": {},
   "outputs": [
    {
     "name": "stdout",
     "output_type": "stream",
     "text": [
      "[2 4 6 8]\n",
      "[2 4 6]\n",
      "[2 4 6 8]\n",
      "[2 4 6] 8\n"
     ]
    }
   ],
   "source": [
    "# 1차원 슬라이싱: 시작 위치와 종료 위치에 해당하는 ndarray추출\n",
    "\n",
    "ndarray1 = np.arange(start=2, stop=10, step=2)\n",
    "print(ndarray1)\n",
    "\n",
    "print(ndarray1[:3])\n",
    "print(ndarray1[:])\n",
    "print(ndarray1[:-1], ndarray1[-1])"
   ]
  },
  {
   "cell_type": "code",
   "execution_count": 100,
   "id": "c8f0aca8-0822-487a-ab84-84160a21e4c2",
   "metadata": {},
   "outputs": [
    {
     "name": "stdout",
     "output_type": "stream",
     "text": [
      "[ 1  2  3  4  5  6  7  8  9 10 11 12 13 14 15 16 17 18 19 20 21 22 23 24\n",
      " 25 26 27]\n",
      "==============================\n",
      "[[ 1  2  3]\n",
      " [ 4  5  6]\n",
      " [ 7  8  9]\n",
      " [10 11 12]\n",
      " [13 14 15]\n",
      " [16 17 18]\n",
      " [19 20 21]\n",
      " [22 23 24]\n",
      " [25 26 27]]\n",
      "==============================\n",
      "[[1 2]\n",
      " [4 5]\n",
      " [7 8]]\n",
      "[[13 14 15]\n",
      " [16 17 18]\n",
      " [19 20 21]\n",
      " [22 23 24]\n",
      " [25 26 27]]\n",
      "==============================\n",
      "[[25 26 27]\n",
      " [22 23 24]\n",
      " [19 20 21]\n",
      " [16 17 18]\n",
      " [13 14 15]\n",
      " [10 11 12]\n",
      " [ 7  8  9]\n",
      " [ 4  5  6]\n",
      " [ 1  2  3]]\n",
      "==============================\n",
      "[[27 26 25]\n",
      " [24 23 22]\n",
      " [21 20 19]\n",
      " [18 17 16]\n",
      " [15 14 13]\n",
      " [12 11 10]\n",
      " [ 9  8  7]\n",
      " [ 6  5  4]\n",
      " [ 3  2  1]]\n"
     ]
    }
   ],
   "source": [
    "# 2차원 슬라이싱: 시작 위치와 종료 위치에 해당하는 ndarray추출\n",
    "\n",
    "ndarray1 = np.arange(start=1, stop=28)\n",
    "print(ndarray1)\n",
    "\n",
    "print('=' * 30)\n",
    "\n",
    "ndarray2 = ndarray1.reshape((-1, 3))\n",
    "print(ndarray2)\n",
    "\n",
    "print('=' * 30)\n",
    "\n",
    "print(ndarray2[:3, :2])\n",
    "print(ndarray2[4:9])\n",
    "\n",
    "print('=' * 30)\n",
    "\n",
    "print(ndarray2[::-1])\n",
    "\n",
    "print('=' * 30)\n",
    "\n",
    "print(ndarray2[::-1, ::-1])\n"
   ]
  },
  {
   "cell_type": "code",
   "execution_count": 101,
   "id": "4decb47d-e47e-4127-b008-49ddfaec0206",
   "metadata": {},
   "outputs": [
    {
     "name": "stdout",
     "output_type": "stream",
     "text": [
      "[[ 1  2  3  4  5]\n",
      " [ 6  7  8  9 10]\n",
      " [11 12 13 14 15]\n",
      " [16 17 18 19 20]]\n",
      "==============================\n",
      "[[ 3  4  5]\n",
      " [ 8  9 10]\n",
      " [18 19 20]]\n"
     ]
    }
   ],
   "source": [
    "# 팬시 인덱싱: list를 전달해서 한번에 여러 요소를 추출한다.\n",
    "\n",
    "ndarray1 = np.arange(start=1, stop=21)\n",
    "ndarray2 = ndarray1.reshape((4,-1))\n",
    "print(ndarray2)\n",
    "\n",
    "print('=' * 30)\n",
    "\n",
    "print(ndarray2[[0, 1, 3], 2:5])"
   ]
  },
  {
   "cell_type": "code",
   "execution_count": 102,
   "id": "5a7f0818-6855-4b05-b422-7db4d846fabc",
   "metadata": {},
   "outputs": [
    {
     "data": {
      "text/plain": [
       "array([ 10,  25,  40,  55,  70,  85, 100])"
      ]
     },
     "execution_count": 102,
     "metadata": {},
     "output_type": "execute_result"
    }
   ],
   "source": [
    "# 불린 인덱싱: True인 위치의 ndarray 추출\n",
    "\n",
    "ndarray1 = np.arange(start=1, stop=101, step=3)\n",
    "ndarray1[ndarray1 % 5 == 0]"
   ]
  },
  {
   "cell_type": "markdown",
   "id": "d08e4c74-cca7-43a6-b78a-281ab9ccb8c6",
   "metadata": {},
   "source": [
    "#### Sorting\n",
    "- 모두 오름차순 정렬이며, 내림차순은 오름차순 정렬후 [::-1]을 붙여 사용한다."
   ]
  },
  {
   "cell_type": "code",
   "execution_count": 103,
   "id": "4543fead-8151-4b28-9661-0e13cc937192",
   "metadata": {},
   "outputs": [
    {
     "name": "stdout",
     "output_type": "stream",
     "text": [
      "원본배열: [0 4 2 5]\n",
      "오름차순으로 정렬된 배열: [0 2 4 5]\n",
      "내림차순으로 정렬된 배열: [5 4 2 0]\n"
     ]
    }
   ],
   "source": [
    "# np.sort(ndarray)\n",
    "\n",
    "original_ndarray = np.array([0,4,2,5])\n",
    "sorted_ndarray = np.sort(original_ndarray)\n",
    "\n",
    "print(f'원본배열: {original_ndarray}')\n",
    "print(f'오름차순으로 정렬된 배열: {sorted_ndarray}')\n",
    "print(f'내림차순으로 정렬된 배열: {sorted_ndarray[::-1]}')"
   ]
  },
  {
   "cell_type": "code",
   "execution_count": 104,
   "id": "9cfc958b-0520-4425-b0ba-70af243289f9",
   "metadata": {},
   "outputs": [
    {
     "name": "stdout",
     "output_type": "stream",
     "text": [
      "원본\n",
      "[[20 18 16 14 12]\n",
      " [10  8  6  4  2]]\n",
      "axis=0 정렬\n",
      "[[10  8  6  4  2]\n",
      " [20 18 16 14 12]]\n",
      "axis=1 정렬\n",
      "[[12 14 16 18 20]\n",
      " [ 2  4  6  8 10]]\n"
     ]
    }
   ],
   "source": [
    "# np.sort(ndarray, sxis=n)\n",
    "\n",
    "ndarray1 = np.array([i for i in range(20, 0, -2)])\n",
    "ndarray2 = ndarray1.reshape((2, -1))\n",
    "print(f'원본\\n{ndarray2}')\n",
    "\n",
    "sorted_ndarray_axis0 = np.sort(ndarray2, axis=0)\n",
    "print(f'axis=0 정렬\\n{sorted_ndarray_axis0}')\n",
    "\n",
    "sorted_ndarray_axis1 = np.sort(ndarray2, axis=1)\n",
    "print(f'axis=1 정렬\\n{sorted_ndarray_axis1}')"
   ]
  },
  {
   "cell_type": "code",
   "execution_count": 105,
   "id": "dba0972f-d424-43da-a969-0affc5460569",
   "metadata": {},
   "outputs": [
    {
     "name": "stdout",
     "output_type": "stream",
     "text": [
      "정렬 후 원본 인덱스: [0 2 1 3]\n",
      "오름차순으로 정렬된 ndarray: [0 2 3 6]\n"
     ]
    }
   ],
   "source": [
    "# np.argsort(ndarray)\n",
    "\n",
    "original_ndarray = np.array([0,3,2,6])\n",
    "sorted_indices = np.argsort(original_ndarray)\n",
    "print(f'정렬 후 원본 인덱스: {sorted_indices}')\n",
    "\n",
    "sorted_ndarray = original_ndarray[sorted_indices]\n",
    "print(f'오름차순으로 정렬된 ndarray: {sorted_ndarray}')\n",
    "# print(f'내림차순으로 정렬된 배열: {sorted_ndarray[::-1]}')"
   ]
  },
  {
   "cell_type": "code",
   "execution_count": 106,
   "id": "ac13167a-6b4e-4a64-acca-a9071ad2ac7a",
   "metadata": {},
   "outputs": [
    {
     "name": "stdout",
     "output_type": "stream",
     "text": [
      "['Lamborghini' 'Mclaren' 'Bentley' 'Benz' 'The New Morning']\n"
     ]
    }
   ],
   "source": [
    "# 제로백이 빠른 순으로 자동차 이름 정렬하기\n",
    "cars = np.array(['Lamborghini', 'Mclaren', 'Benz', 'Bentley', 'The New Morning'])\n",
    "zero100 = np.array([2.8, 2.9, 5.2, 3.7, 13.5])\n",
    "\n",
    "sorted = zero100.argsort()\n",
    "print(cars[sorted])"
   ]
  },
  {
   "cell_type": "code",
   "execution_count": null,
   "id": "6f2db80b-54ff-4e46-8c00-c4de035a11e5",
   "metadata": {},
   "outputs": [],
   "source": []
  },
  {
   "cell_type": "code",
   "execution_count": null,
   "id": "d9fd3a27-0d36-4f17-bee5-d5b61b49615e",
   "metadata": {},
   "outputs": [],
   "source": []
  },
  {
   "cell_type": "code",
   "execution_count": null,
   "id": "20f9ae27-dfd3-412c-bd48-66e38f7ce7d6",
   "metadata": {},
   "outputs": [],
   "source": []
  },
  {
   "cell_type": "code",
   "execution_count": null,
   "id": "f26619b7-d94d-4f4f-aef1-f1a944d23065",
   "metadata": {},
   "outputs": [],
   "source": []
  },
  {
   "cell_type": "code",
   "execution_count": null,
   "id": "2e5bc421-0dc2-445d-903b-af792dc70c04",
   "metadata": {},
   "outputs": [],
   "source": []
  },
  {
   "cell_type": "code",
   "execution_count": null,
   "id": "b5f3b967-f423-4325-843b-4a0b939b0a3f",
   "metadata": {},
   "outputs": [],
   "source": []
  },
  {
   "cell_type": "code",
   "execution_count": null,
   "id": "6f30472d-9299-4b2c-b596-a35af188b207",
   "metadata": {},
   "outputs": [],
   "source": []
  },
  {
   "cell_type": "code",
   "execution_count": null,
   "id": "82a56ced-0d98-4fb1-a701-7bafe563d581",
   "metadata": {},
   "outputs": [],
   "source": []
  },
  {
   "cell_type": "code",
   "execution_count": null,
   "id": "0dbecb11-96e4-429a-b492-01cfe4293293",
   "metadata": {},
   "outputs": [],
   "source": []
  },
  {
   "cell_type": "code",
   "execution_count": null,
   "id": "22de2d6a-8fa7-431d-8247-ff3e2fd90843",
   "metadata": {},
   "outputs": [],
   "source": []
  },
  {
   "cell_type": "code",
   "execution_count": null,
   "id": "3723d297-b59a-4b0e-8fcf-e50083a464ff",
   "metadata": {},
   "outputs": [],
   "source": []
  },
  {
   "cell_type": "code",
   "execution_count": null,
   "id": "56917839-b319-47aa-bd93-9d37bd0e3e05",
   "metadata": {},
   "outputs": [],
   "source": []
  },
  {
   "cell_type": "code",
   "execution_count": null,
   "id": "2ec21c18-4b21-476a-bbac-f1f5d8a9ffa9",
   "metadata": {},
   "outputs": [],
   "source": []
  },
  {
   "cell_type": "code",
   "execution_count": null,
   "id": "e82ae3b8-22c8-4b8b-9ecd-4507e9a4e8b6",
   "metadata": {},
   "outputs": [],
   "source": []
  },
  {
   "cell_type": "code",
   "execution_count": null,
   "id": "70fcec4a-7e44-4ac9-b338-5f8e1e12bf38",
   "metadata": {},
   "outputs": [],
   "source": []
  },
  {
   "cell_type": "code",
   "execution_count": null,
   "id": "e3a6e52a-c4d9-415e-b6a6-392db3e72435",
   "metadata": {},
   "outputs": [],
   "source": []
  },
  {
   "cell_type": "code",
   "execution_count": null,
   "id": "11d55850-648d-4ff7-9a55-8291978167a2",
   "metadata": {},
   "outputs": [],
   "source": []
  },
  {
   "cell_type": "code",
   "execution_count": null,
   "id": "b8dbf484-5736-4cc2-a624-674a3df83228",
   "metadata": {},
   "outputs": [],
   "source": []
  },
  {
   "cell_type": "code",
   "execution_count": null,
   "id": "67a159dd-4740-494a-9b77-359999f742c8",
   "metadata": {},
   "outputs": [],
   "source": []
  },
  {
   "cell_type": "code",
   "execution_count": null,
   "id": "3d6a52d7-74c8-4a0a-8731-e73c95c87a30",
   "metadata": {},
   "outputs": [],
   "source": []
  },
  {
   "cell_type": "code",
   "execution_count": null,
   "id": "938942cd-d4b2-4932-be77-1d67dd1a1f41",
   "metadata": {},
   "outputs": [],
   "source": []
  }
 ],
 "metadata": {
  "kernelspec": {
   "display_name": "Python 3 (ipykernel)",
   "language": "python",
   "name": "python3"
  },
  "language_info": {
   "codemirror_mode": {
    "name": "ipython",
    "version": 3
   },
   "file_extension": ".py",
   "mimetype": "text/x-python",
   "name": "python",
   "nbconvert_exporter": "python",
   "pygments_lexer": "ipython3",
   "version": "3.11.8"
  }
 },
 "nbformat": 4,
 "nbformat_minor": 5
}
